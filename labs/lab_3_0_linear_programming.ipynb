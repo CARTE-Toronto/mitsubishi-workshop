{
 "cells": [
  {
   "metadata": {},
   "cell_type": "markdown",
   "source": [
    "# **Maximizing Profit in a Car Parts Manufacturing Workshop**\n",
    "\n",
    "## **Introduction**\n",
    "\n",
    "Imagine you run a small workshop that makes two types of car parts: **Car Part A** (engine brackets) and **Car Part B** (gear housing covers). Each part requires materials and time to produce, but your resources are limited. Your goal is to figure out how many of each car part you should produce to earn the most profit.\n",
    "\n",
    "This process is called **optimization**. It's about making the best decisions while staying within your limits.\n",
    "\n",
    "---\n",
    "\n",
    "## **The Problem**\n",
    "\n",
    "### **Your Products and Profits**\n",
    "\n",
    "- **Car Part A (Engine Brackets)**:\n",
    "  - Profit: **\\$30** per unit sold.\n",
    "- **Car Part B (Gear Housing Covers)**:\n",
    "  - Profit: **\\$40** per unit sold.\n",
    "\n",
    "### **Your Resource Limits**\n",
    "\n",
    "You have two main resources:\n",
    "\n",
    "1. **Metal Sheets**:\n",
    "   - Used to make both parts.\n",
    "   - Total available: **8 sheets per day**.\n",
    "   - **Engine Brackets** use **1 sheet** per unit.\n",
    "   - **Gear Housing Covers** use **2 sheets** per unit.\n",
    "\n",
    "2. **Machine Hours**:\n",
    "   - Total available: **9 hours per day**.\n",
    "   - **Engine Brackets** take **3 hours** to make one unit.\n",
    "   - **Gear Housing Covers** take **1 hour** to make one unit.\n",
    "\n",
    "---\n",
    "\n",
    "## **Your Goal**\n",
    "\n",
    "Decide how many **Engine Brackets** and **Gear Housing Covers** to make today to **maximize your profit** while staying within your limits of metal sheets and machine hours.\n",
    "\n",
    "---\n",
    "\n",
    "## **How to Solve the Problem**\n",
    "\n",
    "We'll use **Linear Programming (LP)** to solve this optimization problem. LP is a mathematical method for determining a way to achieve the best outcome in a given mathematical model for some list of requirements represented as linear relationships.\n",
    "\n",
    "By defining our problem in terms of linear relationships, we can use LP to find the best solution. Let's see how to accomplish this together!\n",
    "\n",
    "## 1. **Define the Problem**\n",
    "\n",
    "We'll start by defining the problem in terms of linear relationships. We'll need to define:\n",
    "\n",
    "- **Objective Function**: The function we want to maximize or minimize.\n",
    "- **Constraints**: The limits we need to respect.\n",
    "\n",
    "Let's begin by defining our objective mathematically. As we established, the total profit from our workshop is the number of **Engine Brackets** times the profit per bracket plus the number of **Gear Housing Covers** times the profit per cover. This can be written as:\n",
    "\n",
    "$$\n",
    "\\text{Total Profit} = 30 \\times \\text{Engine Brackets} + 40 \\times \\text{Gear Housing Covers}\n",
    "$$\n",
    "\n",
    "Let's encode that:"
   ],
   "id": "9dccd197a8fc6334"
  },
  {
   "metadata": {},
   "cell_type": "code",
   "source": "!pip install -q gilp",
   "id": "29de45204e26d22a",
   "outputs": [],
   "execution_count": null
  },
  {
   "metadata": {},
   "cell_type": "code",
   "source": [
    "import numpy as np\n",
    "from gilp.simplex import LP\n",
    "from gilp.visualize import simplex_visual"
   ],
   "id": "572dbf64870ec2e0",
   "outputs": [],
   "execution_count": null
  },
  {
   "metadata": {},
   "cell_type": "code",
   "source": [
    "profit_values = np.array([\n",
    "    [30], # For the Engine Brackets\n",
    "    [40]  # For the Gear Housing Covers\n",
    "])"
   ],
   "id": "61e119180b053b56",
   "outputs": [],
   "execution_count": null
  },
  {
   "metadata": {},
   "cell_type": "markdown",
   "source": [
    "## 2. **Define the Constraints**\n",
    "\n",
    "Next, we'll define the constraints that **limit** our resource usage. We have two main constraints:\n",
    "\n",
    "1. **Metal Sheets**: The total number of metal sheets used by the parts we make cannot **exceed** the total number of sheets available. In other words, the number of **Engine Brackets** times the number of sheets per bracket plus the number of **Gear Housing Covers** times the number of sheets per cover must be less than or equal to the total number of sheets available. This can be written as:\n",
    "\n",
    "$$\n",
    "1 \\times \\text{Engine Brackets} + 2 \\times \\text{Gear Housing Covers} \\leq 8\n",
    "$$\n",
    "\n",
    "We can write that out for our model to track:"
   ],
   "id": "aa8a17b20159c9ee"
  },
  {
   "metadata": {},
   "cell_type": "code",
   "source": [
    "metal_sheet_usage = [\n",
    "    1, # Per Engine Bracket\n",
    "    2  # Per Gear Housing Cover\n",
    "]\n",
    "\n",
    "metal_sheet_constraint = [\n",
    "    [8] # Total Available\n",
    "]"
   ],
   "id": "ea412d4bcff15175",
   "outputs": [],
   "execution_count": null
  },
  {
   "metadata": {},
   "cell_type": "markdown",
   "source": [
    "2. **Machine Hours**: The total number of machine hours used by the parts we make cannot **exceed** the total number of hours available. In other words, the number of **Engine Brackets** times the number of hours per bracket plus the number of **Gear Housing Covers** times the number of hours per cover must be less than or equal to the total number of hours available. This can be written as:\n",
    "\n",
    "$$\n",
    "3 \\times \\text{Engine Brackets} + 1 \\times \\text{Gear Housing Covers} \\leq 9\n",
    "$$\n",
    "\n",
    "We can similarly encode this for our model:"
   ],
   "id": "c109557673eb79aa"
  },
  {
   "metadata": {},
   "cell_type": "code",
   "source": [
    "machine_hours_usage = [\n",
    "    3, # Per Engine Bracket\n",
    "    1  # Per Gear Housing Cover\n",
    "]\n",
    "\n",
    "machine_hours_constraint = [\n",
    "    [9] # Total Available\n",
    "]"
   ],
   "id": "f5f9faa5519c1a25",
   "outputs": [],
   "execution_count": null
  },
  {
   "metadata": {},
   "cell_type": "markdown",
   "source": [
    "## 3. **Solve the Problem**\n",
    "\n",
    "Now that we've defined the **objective function** and **constraints**, we can solve the problem using **Linear Programming**. We'll use the **Simplex Method** to find the optimal solution.\n",
    "\n",
    "Let's create an instance of the **Linear Programming** model and visualize it using the **Simplex Method**. This will display for us the **feasible region** (all possible solutions that respect our limitations on hours and materials) and the **optimal solution** (the point in the feasible region that maximizes our profit).\n",
    "\n",
    "We supply our model with the following information:\n",
    "\n",
    "- **Usage**: The amount of each resource used by each product.\n",
    "- **Constraints**: The limits on each resource.\n",
    "- **Objective**: The profit values for each product."
   ],
   "id": "ce27860ce046e804"
  },
  {
   "cell_type": "code",
   "id": "initial_id",
   "metadata": {
    "collapsed": true
   },
   "source": [
    "problem = LP(\n",
    "    np.stack([metal_sheet_usage, machine_hours_usage]),\n",
    "    np.vstack([metal_sheet_constraint, machine_hours_constraint]),\n",
    "    profit_values\n",
    ")"
   ],
   "outputs": [],
   "execution_count": null
  },
  {
   "metadata": {},
   "cell_type": "code",
   "source": "simplex_visual(problem)",
   "id": "5286b55557c05c6a",
   "outputs": [],
   "execution_count": null
  },
  {
   "metadata": {},
   "cell_type": "markdown",
   "source": [
    "## 4. **Interpret the Solution**\n",
    "\n",
    "Looking above we can see a chart with a **blue shaded region** that's bounded by two dashed lines. What does this all mean!?\n",
    "\n",
    "Firstly, remember that the $x_1$ and $x_2$ values along our axes represent the number of **Engine Brackets** and **Gear Housing Covers** we make, respectively. If you look at just one of these, you'll notice that the most we can possibly make is 3 Engine Brackets, or 4 Gear Housing Covers. This is because of our resource limitations:\n",
    "\n",
    "- **Engine Brackets (aka $x_1$)**: We can make at most 3, because we only have 9 machine hours available and each bracket takes 3 hours.\n",
    "- **Gear Housing Covers (aka $x_2$)**: We can make at most 4, because we only have 8 metal sheets available and each cover takes 2 sheets.\n",
    "\n",
    "The **blue shaded region** represents all the possible combinations of Engine Brackets and Gear Housing Covers that respect our resource limitations. The **optimal solution** is the point in this region that maximizes our profit. This point is marked with a **red dot**.\n",
    "\n",
    "Following the **dark blue line**, we can see this represents the limitations on the number of metal sheets. Our system is **constrained** by the equation\n",
    "\n",
    "$$\n",
    "1 \\times \\text{Engine Brackets} + 2 \\times \\text{Gear Housing Covers} = 8\n",
    "$$\n",
    "\n",
    "Following the **light blue line**, we can see this represents the limitations on the number of machine hours. Our system is **constrained** by the equation\n",
    "\n",
    "$$\n",
    "3 \\times \\text{Engine Brackets} + 1 \\times \\text{Gear Housing Covers} = 9\n",
    "$$\n",
    "\n",
    "The optimal solution lies at the point \"furthest out\" along the **objective function** that is still within the **feasible region**. This is the point that maximizes our profit while respecting our resource limitations. You can move the sliders to see how the **Simplex Method** finds this optimal solution.\n",
    "\n",
    "We have two interactive sliders along the right hand side of the figure. The first (iteration) allows you to step through the **Simplex Method** as it finds the optimal solution. You can watch as it follows the **edges** of the **feasible region** to find the best solution.\n",
    "\n",
    "The second slider (objective value) shows you the possible range of production if we choose the profit first."
   ],
   "id": "b3f18c2de4fb3b1e"
  },
  {
   "metadata": {},
   "cell_type": "markdown",
   "source": [
    "## Adding a new constraint\n",
    "\n",
    "Let's say that new legislation has come in mandating that our factory is now not allowed to produce more than 4 total parts each day. This can be written as:\n",
    "\n",
    "$$\n",
    "\\text{Engine Brackets} + \\text{Gear Housing Covers} \\leq 4\n",
    "$$\n",
    "\n",
    "We can add this constraint to our model and visualize the new feasible region and optimal solution. Note that we also need to tell our model how to add up the number of parts produced each day. This is equivalent to:\n",
    "\n",
    "$$\n",
    "1 \\times \\text{Engine Brackets} + 1 \\times \\text{Gear Housing Covers}\n",
    "$$\n",
    "\n",
    "Which we'll define as well."
   ],
   "id": "7cddbb357b29b692"
  },
  {
   "metadata": {},
   "cell_type": "code",
   "source": [
    "total_parts_constraint = [\n",
    "    [4] # Total Available\n",
    "]\n",
    "\n",
    "total_parts_usage = [\n",
    "    1, # Literally, 1 bracket per bracket\n",
    "    1  # Literally, 1 cover per cover\n",
    "]\n",
    "\n",
    "problem = LP(\n",
    "    np.stack([metal_sheet_usage, machine_hours_usage, total_parts_usage]),\n",
    "    np.vstack([metal_sheet_constraint, machine_hours_constraint, total_parts_constraint]),\n",
    "    profit_values\n",
    ")"
   ],
   "id": "40333529c27796d5",
   "outputs": [],
   "execution_count": null
  },
  {
   "metadata": {},
   "cell_type": "code",
   "source": "simplex_visual(problem)",
   "id": "dc191292a23eaa7c",
   "outputs": [],
   "execution_count": null
  },
  {
   "metadata": {},
   "cell_type": "markdown",
   "source": "Adding this constraint now means it's maximally profitable to shut down the production of Engine Brackets and only produce Gear Housing Covers. This is because the profit per Gear Housing Cover is higher than the profit per Engine Bracket, and the Gear Housing Covers use fewer resources. This is a good example of how constraints can change the optimal solution to a problem.",
   "id": "31e907cc340b352f"
  },
  {
   "metadata": {},
   "cell_type": "markdown",
   "source": [
    "## Summary\n",
    "\n",
    "In this notebook, we used **Linear Programming** to solve an optimization problem in a car parts manufacturing workshop. We defined an objective function to maximize profit and constraints to limit the use of resources. By visualizing the feasible region and optimal solution using the **Simplex Method**, we were able to find the best production plan that maximizes profit while respecting our resource limitations.\n",
    "\n",
    "You can modify the data and constraints to test different scenarios and see how the optimal solution changes. **Linear Programming** is a powerful tool for optimization problems, and it can help you make the best decisions in various situations."
   ],
   "id": "2ab657c806634639"
  }
 ],
 "metadata": {
  "kernelspec": {
   "display_name": "Python 3",
   "language": "python",
   "name": "python3"
  },
  "language_info": {
   "codemirror_mode": {
    "name": "ipython",
    "version": 2
   },
   "file_extension": ".py",
   "mimetype": "text/x-python",
   "name": "python",
   "nbconvert_exporter": "python",
   "pygments_lexer": "ipython2",
   "version": "2.7.6"
  }
 },
 "nbformat": 4,
 "nbformat_minor": 5
}
