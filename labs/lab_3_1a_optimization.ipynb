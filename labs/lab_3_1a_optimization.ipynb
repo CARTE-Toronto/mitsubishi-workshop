{
 "cells": [
  {
   "metadata": {},
   "cell_type": "markdown",
   "source": [
    "# AI Workshop - Lab 3-1a: Optimization\n",
    "## Supply Chain Logistics Optimization using Google OR-Tools\n",
    "\n",
    "This notebook will guide you through using Google OR-Tools to solve a supply chain optimization problem.\n",
    "We'll use Linear Programming (LP) to minimize transportation costs in a supply chain.\n",
    "\n",
    "## Problem Overview\n",
    "Imagine a company that needs to transport goods from warehouses to stores. Each warehouse has a limited supply, and each store requires a certain amount of goods. Additionally, transporting goods incurs costs, which depend on the warehouse-store route. Our goal is to determine the optimal transportation plan to minimize total costs.\n",
    "\n",
    "We'll use Google OR-Tools to solve this problem. OR-Tools is an open-source library for combinatorial optimization, which includes linear programming, constraint programming, and vehicle routing."
   ],
   "id": "36afd2afc4b8ff7"
  },
  {
   "metadata": {},
   "cell_type": "code",
   "source": "!pip install ortools",
   "id": "9b81f834618232b7",
   "outputs": [],
   "execution_count": null
  },
  {
   "cell_type": "code",
   "id": "initial_id",
   "metadata": {
    "collapsed": true
   },
   "source": "from ortools.linear_solver import pywraplp",
   "outputs": [],
   "execution_count": null
  },
  {
   "metadata": {},
   "cell_type": "markdown",
   "source": [
    "## Problem Data\n",
    "\n",
    "We'll use the following data for our problem:\n",
    "\n",
    "- Warehouses: the supply locations.\n",
    "- Stores: the demand locations.\n",
    "- Costs: the transportation costs between warehouses and stores.\n",
    "- Supplies: the available supply at each warehouse.\n",
    "- Demands: the required demand at each store.\n",
    "\n",
    "We'll represent this data using Python dictionaries. Fill out these values with your own data."
   ],
   "id": "2bfd81431b414328"
  },
  {
   "metadata": {},
   "cell_type": "code",
   "source": [
    "# Data\n",
    "\n",
    "# Warehouses - a list of supply locations\n",
    "warehouses = ['Warehouse A', 'Warehouse B']\n",
    "\n",
    "# Stores\n",
    "stores = ['Store 1', 'Store 2', 'Store 3']\n",
    "\n",
    "# Costs\n",
    "costs = {\n",
    "    ('Warehouse A', 'Store 1'): 1,\n",
    "    ('Warehouse A', 'Store 2'): 2,\n",
    "    ('Warehouse A', 'Store 3'): 3,\n",
    "    ('Warehouse B', 'Store 1'): 3,\n",
    "    ('Warehouse B', 'Store 2'): 2,\n",
    "    ('Warehouse B', 'Store 3'): 1,\n",
    "}\n",
    "\n",
    "# Supplies\n",
    "supplies = {\n",
    "    'Warehouse A': 100,\n",
    "    'Warehouse B': 150,\n",
    "}\n",
    "\n",
    "# Demands\n",
    "demands = {\n",
    "    'Store 1': 50,\n",
    "    'Store 2': 100,\n",
    "    'Store 3': 75,\n",
    "}\n",
    "\n",
    "# Verify that the costs, supplies and demands are complete\n",
    "assert len(warehouses) * len(stores) == len(costs), 'Costs are incomplete'\n",
    "assert len(warehouses) == len(supplies), 'Supplies are incomplete'\n",
    "assert len(stores) == len(demands), 'Demands are incomplete'"
   ],
   "id": "a07840815d1f8ca",
   "outputs": [],
   "execution_count": null
  },
  {
   "metadata": {},
   "cell_type": "markdown",
   "source": [
    "## Model\n",
    "\n",
    "Next, we'll define the optimization model using Google OR-Tools. We'll create a linear programming model to minimize the total transportation costs.\n",
    "\n",
    "Google OR-Tools provides a Python API for defining linear programming models. We can create variables, constraints, and the objective function using this API. We'll be using the GLOP linear solver, which is a high-performance solver for linear programming problems.\n",
    "\n",
    "Let's define the model."
   ],
   "id": "9bacc979de51ad32"
  },
  {
   "metadata": {},
   "cell_type": "code",
   "source": [
    "# Model\n",
    "\n",
    "# Create the linear solver with the GLOP backend\n",
    "solver = pywraplp.Solver.CreateSolver('GLOP')"
   ],
   "id": "a63c4b7ebf2e805b",
   "outputs": [],
   "execution_count": null
  },
  {
   "metadata": {},
   "cell_type": "markdown",
   "source": "First we need to define the \"decision variables\" for the model. These variables represent the amount of goods transported from each warehouse to each store. We'll create a variable for each warehouse-store pair. Some of these might be zero if there is no route between a warehouse and a store.",
   "id": "41631894e8dbd7f9"
  },
  {
   "metadata": {},
   "cell_type": "code",
   "source": [
    "# Decision Variables\n",
    "\n",
    "# Create a variable for each warehouse-store pair\n",
    "variables = {}\n",
    "for warehouse in warehouses:\n",
    "    for store in stores:\n",
    "        variables[warehouse, store] = solver.NumVar(0, solver.infinity(), f'{warehouse} to {store}')\n",
    "\n",
    "# Verify the variables\n",
    "variables"
   ],
   "id": "62c4c52b05fd9aa5",
   "outputs": [],
   "execution_count": null
  },
  {
   "metadata": {},
   "cell_type": "markdown",
   "source": [
    "Notice that we defined the _bounds_ of each variable to be between 0 and infinity. This means that the amount of goods transported can be any non-negative value - anywhere from zero to all the goods available at the warehouse.\n",
    "\n",
    "# Constraints\n",
    "\n",
    "Next, we need to define the constraints for the model. These constraints ensure that the total amount of goods transported from each warehouse does not exceed the available supply, and that the total amount of goods received at each store meets the required demand. We'll create two sets of constraints: one for supplies and one for demands."
   ],
   "id": "226094e1b74f1adf"
  },
  {
   "metadata": {},
   "cell_type": "code",
   "source": [
    "# Supply Constraints: total goods transported from each warehouse <= available supply\n",
    "for warehouse in warehouses:\n",
    "    solver.Add(sum(variables[warehouse, store] for store in stores) <= supplies[warehouse])\n",
    "\n",
    "# Demand Constraints: total goods received at each store >= required demand\n",
    "for store in stores:\n",
    "    solver.Add(sum(variables[warehouse, store] for warehouse in warehouses) >= demands[store])\n",
    "\n",
    "# Verify the constraints\n",
    "solver.NumConstraints()"
   ],
   "id": "365940b9f723cd11",
   "outputs": [],
   "execution_count": null
  },
  {
   "metadata": {},
   "cell_type": "markdown",
   "source": [
    "# Objective Function\n",
    "\n",
    "Finally, we need to define the objective function for the model. This tells our solver what it is we're trying to optimize. In this case, we want to minimize the total transportation costs, which is the sum of costs for each warehouse-store pair. Notice that we've already specified that each store must receive at least the required demand, and each warehouse cannot exceed its available supply."
   ],
   "id": "6fd598b8d9242acc"
  },
  {
   "metadata": {},
   "cell_type": "code",
   "source": [
    "# Objective Function: minimize total transportation costs\n",
    "for warehouse in warehouses:\n",
    "    for store in stores:\n",
    "        solver.Minimize(variables[warehouse, store] * costs[warehouse, store])"
   ],
   "id": "d20ad62583c88a05",
   "outputs": [],
   "execution_count": null
  },
  {
   "metadata": {},
   "cell_type": "markdown",
   "source": "Now that we've defined the model, we can run the solver to find the optimal solution! We'll call the `Solve` method on the solver object to solve the linear programming problem.",
   "id": "3e8125aba7f15b35"
  },
  {
   "metadata": {},
   "cell_type": "code",
   "source": [
    "# Solve the model\n",
    "status = solver.Solve()"
   ],
   "id": "715b218f4eaf79b3",
   "outputs": [],
   "execution_count": null
  },
  {
   "metadata": {},
   "cell_type": "code",
   "source": [
    "# Check if the problem has an optimal solution\n",
    "if status == pywraplp.Solver.OPTIMAL:\n",
    "    print('Optimal Solution Found')\n",
    "else:\n",
    "    print('The problem does not have an optimal solution')"
   ],
   "id": "754522436087f465",
   "outputs": [],
   "execution_count": null
  },
  {
   "metadata": {},
   "cell_type": "markdown",
   "source": "Fantastic - the solver found an optimal solution! Now let's print out the optimal transportation plan and the total transportation costs.",
   "id": "eee1301b9705a91"
  },
  {
   "metadata": {},
   "cell_type": "code",
   "source": [
    "# Print the optimal transportation plan\n",
    "total_cost = 0\n",
    "for warehouse in warehouses:\n",
    "    for store in stores:\n",
    "        amount = variables[warehouse, store].solution_value()\n",
    "        if amount > 0:\n",
    "            cost = amount * costs[warehouse, store]\n",
    "            total_cost += cost\n",
    "            print(f'Transport {amount} units from {warehouse} to {store} at a cost of {cost}')\n",
    "\n",
    "print(f'\\nTotal Transportation Cost: {total_cost}')"
   ],
   "id": "58199fdbea5c0dc8",
   "outputs": [],
   "execution_count": null
  },
  {
   "metadata": {},
   "cell_type": "markdown",
   "source": [
    "# Summary\n",
    "\n",
    "In this notebook, we used Google OR-Tools to solve a supply chain optimization problem. We defined a linear programming model to minimize transportation costs in a supply chain, considering the available supply at each warehouse and the required demand at each store. We then used the GLOP linear solver to find the optimal transportation plan that minimizes total costs.\n",
    "\n",
    "You can modify the data and constraints to test different scenarios and see how the optimal solution changes. Linear programming is a powerful tool for optimization problems, and Google OR-Tools makes it easy to define and solve these models in Python.\n",
    "\n"
   ],
   "id": "47b13c75f1984a61"
  }
 ],
 "metadata": {
  "kernelspec": {
   "display_name": "Python 3",
   "language": "python",
   "name": "python3"
  },
  "language_info": {
   "codemirror_mode": {
    "name": "ipython",
    "version": 2
   },
   "file_extension": ".py",
   "mimetype": "text/x-python",
   "name": "python",
   "nbconvert_exporter": "python",
   "pygments_lexer": "ipython2",
   "version": "2.7.6"
  }
 },
 "nbformat": 4,
 "nbformat_minor": 5
}
