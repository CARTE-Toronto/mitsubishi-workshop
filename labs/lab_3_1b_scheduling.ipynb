{
 "cells": [
  {
   "metadata": {},
   "cell_type": "markdown",
   "source": [
    "# # AI Workshop - Lab 3-1b: Scheduling\n",
    "## Employee Scheduling Optimization Using Google OR-Tools\n",
    "\n",
    "This notebook demonstrates how to solve a common scheduling problem using **Google OR-Tools**, a powerful library for optimization. In this example, we will create a schedule for employees that satisfies their individual working hour constraints while ensuring that shifts are adequately staffed.\n",
    "\n",
    "---\n",
    "\n",
    "## **Problem Overview**\n",
    "\n",
    "A company needs to create a weekly schedule for its employees. The scheduling must respect two sets of constraints:\n",
    "\n",
    "1. **Employee Constraints**:\n",
    "   - **Minimum shifts**: Each employee must work at least a specified number of shifts during the week.\n",
    "   - **Maximum shifts**: Each employee cannot work more than a specified number of shifts during the week.\n",
    "\n",
    "2. **Shift Requirements**:\n",
    "   - Each shift must have a minimum number of employees working to meet operational requirements.\n",
    "\n",
    "---\n",
    "\n",
    "### **Goal**\n",
    "\n",
    "The goal is to create a schedule that ensures:\n",
    "- All employees are scheduled within their constraints.\n",
    "- All shifts are adequately staffed with the minimum required number of employees.\n",
    "\n",
    "We will use Google OR-Tools to model and solve this problem efficiently."
   ],
   "id": "6fa59de27c557855"
  },
  {
   "metadata": {},
   "cell_type": "code",
   "source": "!pip install -q ortools",
   "id": "e7843855a071b326",
   "outputs": [],
   "execution_count": null
  },
  {
   "metadata": {},
   "cell_type": "code",
   "source": "from ortools.linear_solver import pywraplp",
   "id": "77a4a30f79980545",
   "outputs": [],
   "execution_count": null
  },
  {
   "metadata": {},
   "cell_type": "markdown",
   "source": [
    "## Problem Data\n",
    "\n",
    "In this section, we define the **problem data** that serves as the foundation for our scheduling model. This includes the employees, their scheduling constraints, the available shifts, and the minimum staffing requirements for each shift.\n",
    "\n",
    "---\n",
    "\n",
    "### **Components of the Data**\n",
    "\n",
    "1. **Employees**:\n",
    "   A list of employees, each with:\n",
    "   - **Minimum shifts**: The least number of shifts they must work in a week.\n",
    "   - **Maximum shifts**: The most number of shifts they can work in a week.\n",
    "\n",
    "2. **Shifts**:\n",
    "   A list of all shifts that need to be scheduled. Each shift is associated with a specific day and time (e.g., \"Monday Morning\", \"Tuesday Evening\").\n",
    "\n",
    "3. **Minimum Staffing Requirements**:\n",
    "   A dictionary specifying the minimum number of employees required for each shift. For simplicity, we assume all shifts require at least 2 employees, but you can customize these values."
   ],
   "id": "5a90a293ea50e76e"
  },
  {
   "metadata": {},
   "cell_type": "code",
   "source": [
    "# Data\n",
    "\n",
    "# Employees and their constraints\n",
    "employees = {\n",
    "    'Alice':   {'min_shifts': 2, 'max_shifts': 14},\n",
    "    'Bob':     {'min_shifts': 3, 'max_shifts': 15},\n",
    "    'Charlie': {'min_shifts': 2, 'max_shifts': 13},\n",
    "    'David':   {'min_shifts': 4, 'max_shifts': 5},\n",
    "    'Eve':     {'min_shifts': 3, 'max_shifts': 14},\n",
    "    'Frank':   {'min_shifts': 2, 'max_shifts': 3},\n",
    "}\n",
    "\n",
    "# Shifts for one week (Monday to Friday, 3 shifts per day)\n",
    "shifts = [\n",
    "    'Monday Morning',    'Monday Afternoon',    'Monday Evening',\n",
    "    'Tuesday Morning',   'Tuesday Afternoon',   'Tuesday Evening',\n",
    "    'Wednesday Morning', 'Wednesday Afternoon', 'Wednesday Evening',\n",
    "    'Thursday Morning',  'Thursday Afternoon',  'Thursday Evening',\n",
    "    'Friday Morning',    'Friday Afternoon',    'Friday Evening',\n",
    "]\n",
    "\n",
    "# Minimum number of employees required per shift\n",
    "min_staffing = {}\n",
    "for shift in shifts:\n",
    "    min_staffing[shift] = 2"
   ],
   "id": "790ccf563f5d9b72",
   "outputs": [],
   "execution_count": null
  },
  {
   "metadata": {},
   "cell_type": "markdown",
   "source": [
    "## Defining the Model\n",
    "\n",
    "In this section, we create an **integer programming model** to solve the employee scheduling problem. The model uses binary variables to represent whether an employee is assigned to a particular shift. The constraints ensure that:\n",
    "1. Each employee's total assigned shifts stay within their **minimum and maximum limits**.\n",
    "2. Each shift has at least the **required minimum number of employees**.\n",
    "\n",
    "We will use **Google OR-Tools** with the `SCIP` solver, which is ideal for integer programming problems.\n",
    "\n",
    "---\n",
    "\n",
    "### **Key Concepts**\n",
    "\n",
    "1. **Decision Variables:**\n",
    "   For each employee and each shift, we create a binary variable:\n",
    "   - `1`: The employee is assigned to the shift.\n",
    "   - `0`: The employee is not assigned to the shift.\n",
    "\n",
    "2. **Constraints:**\n",
    "   - **Employee Constraints:** Ensure the total shifts assigned to each employee are within their specified limits.\n",
    "   - **Shift Constraints:** Ensure each shift has enough employees to meet the minimum staffing requirement.\n",
    "\n",
    "3. **Solver:**\n",
    "   We use the `SCIP` solver from OR-Tools, which is optimized for integer programming."
   ],
   "id": "c9b10224ca3fcd7e"
  },
  {
   "metadata": {},
   "cell_type": "code",
   "source": [
    "# Create the solver\n",
    "solver = pywraplp.Solver.CreateSolver('SCIP')  # SCIP is suitable for integer programming"
   ],
   "id": "7dbb4f45b62eb593",
   "outputs": [],
   "execution_count": null
  },
  {
   "metadata": {},
   "cell_type": "markdown",
   "source": [
    "## Defining Decision Variables\n",
    "\n",
    "The **decision variables** in this model represent whether an employee is assigned to a specific shift. These variables are binary, meaning they can only take two values:\n",
    "- `1`: The employee is assigned to the shift.\n",
    "- `0`: The employee is not assigned to the shift.\n",
    "\n",
    "By defining these variables for every employee and shift combination, we create the foundation of the scheduling model. These variables will later be used to enforce constraints and calculate the optimal schedule.\n",
    "\n",
    "---\n",
    "\n",
    "### **Key Points**\n",
    "\n",
    "1. **Binary Representation:**\n",
    "   The decision variables are binary because an employee is either working a shift or not. There are no partial assignments.\n",
    "\n",
    "2. **Why Use Binary Variables?**\n",
    "   Binary variables make it easier to model yes/no decisions, such as whether an employee works a shift.\n",
    "\n",
    "3. **Structure:**\n",
    "   We define a binary variable for every possible combination of employees and shifts. For example:\n",
    "   - `variables['Alice', 'Monday Morning']`: Represents whether Alice is assigned to the Monday morning shift.\n",
    "\n",
    "Essentially, we are creating the following table for the model to use:\n",
    "\n",
    "| Employee | Monday Morning | Monday Afternoon | ... | Friday Evening |\n",
    "|----------|----------------|------------------|-----|----------------|\n",
    "| Alice    | 0              | 1                | ... | 0              |\n",
    "| Bob      | 1              | 0                | ... | 1              |\n",
    "| ...      | ...            | ...              | ... | ...            |\n",
    "| Frank    | 0              | 0                | ... | 1              |"
   ],
   "id": "606587bafb7f3c58"
  },
  {
   "metadata": {},
   "cell_type": "code",
   "source": [
    "# Decision variables\n",
    "variables = {}\n",
    "for employee in employees:\n",
    "    for shift in shifts:\n",
    "        variables[employee, shift] = solver.BoolVar(f'{employee}_{shift}')"
   ],
   "id": "36338220ad94d1f2",
   "outputs": [],
   "execution_count": null
  },
  {
   "metadata": {},
   "cell_type": "markdown",
   "source": [
    "## Defining Constraints\n",
    "\n",
    "Constraints are critical in the scheduling model to ensure that the solution respects employee limits and staffing requirements. In this section, we define two types of constraints:\n",
    "\n",
    "---\n",
    "\n",
    "### **1. Employee Hour Constraints**\n",
    "\n",
    "These constraints ensure that each employee works within their specified range of shifts:\n",
    "- **Minimum Shifts:** Each employee must work at least their defined minimum number of shifts.\n",
    "- **Maximum Shifts:** Each employee cannot work more than their defined maximum number of shifts.\n",
    "\n",
    "Mathematically, we represent these constraints using the total shifts assigned to each employee:\n",
    "\n",
    "$$\n",
    "\\text{Minimum Shifts} \\leq \\text{Total Shifts for Employee} \\leq \\text{Maximum Shifts}\n",
    "$$\n",
    "\n",
    "---\n",
    "\n",
    "### **2. Minimum Staffing Constraints**\n",
    "\n",
    "These constraints ensure that each shift is adequately staffed:\n",
    "- **Minimum Employees per Shift:** Each shift must have at least the required number of employees assigned to it, as specified in the `min_staffing` dictionary.\n",
    "\n",
    "Mathematically, this constraint can be represented as:\n",
    "\n",
    "$$\n",
    "\\text{Total Employees Assigned to Shift} \\geq \\text{Minimum Staffing for Shift}\n",
    "$$\n"
   ],
   "id": "55795d05e6f4b2e6"
  },
  {
   "metadata": {},
   "cell_type": "code",
   "source": [
    "# Constraints\n",
    "\n",
    "# Employee Hour Constraints: ensure employees work between their minimum and maximum shifts\n",
    "for employee, constraints in employees.items():\n",
    "    # Total shifts assigned to the employee\n",
    "    total_shifts = sum(variables[employee, shift] for shift in shifts)\n",
    "    # Minimum shifts constraint\n",
    "    solver.Add(total_shifts >= constraints['min_shifts'])\n",
    "    # Maximum shifts constraint\n",
    "    solver.Add(total_shifts <= constraints['max_shifts'])\n",
    "\n",
    "# Minimum Staffing Constraints: ensure each shift has enough employees\n",
    "for shift in shifts:\n",
    "    # Total employees assigned to the shift\n",
    "    total_staffing = sum(variables[employee, shift] for employee in employees)\n",
    "    # Minimum staffing constraint\n",
    "    solver.Add(total_staffing >= min_staffing[shift])"
   ],
   "id": "2222f5b74a58c8de",
   "outputs": [],
   "execution_count": null
  },
  {
   "metadata": {},
   "cell_type": "markdown",
   "source": [
    "## Defining the Objective Function\n",
    "\n",
    "The **objective function** specifies the goal of the optimization. In this scheduling problem, the goal is to **balance the workload among employees** by minimizing the maximum number of shifts assigned to any single employee. This ensures fairness in the schedule and avoids overburdening certain employees.\n",
    "\n",
    "---\n",
    "\n",
    "### **Key Idea**\n",
    "\n",
    "1. Define a variable, `max_workload`, to represent the maximum number of shifts assigned to any single employee.\n",
    "2. Add constraints to ensure that the total shifts assigned to each employee do not exceed `max_workload`.\n",
    "3. Minimize `max_workload`, thereby balancing the workload across all employees."
   ],
   "id": "f985f88963021f80"
  },
  {
   "metadata": {},
   "cell_type": "code",
   "source": [
    "# Objective: Minimize the maximum workload\n",
    "max_workload = solver.NumVar(0, solver.infinity(), 'max_workload')  # Variable for maximum workload\n",
    "\n",
    "# Add constraints to ensure total shifts per employee do not exceed max_workload\n",
    "for employee in employees:\n",
    "    total_shifts = sum(variables[employee, shift] for shift in shifts)\n",
    "    solver.Add(total_shifts <= max_workload)\n",
    "\n",
    "# Set the objective to minimize max_workload\n",
    "solver.Minimize(max_workload)"
   ],
   "id": "58007dd02533daa8",
   "outputs": [],
   "execution_count": null
  },
  {
   "metadata": {},
   "cell_type": "markdown",
   "source": [
    "## Solve the Model\n",
    "\n",
    "Let's run the solver and check if it finds an optimal solution."
   ],
   "id": "bdae686739216984"
  },
  {
   "metadata": {},
   "cell_type": "code",
   "source": [
    "# Solve the model\n",
    "status = solver.Solve()\n",
    "\n",
    "# Check if the problem has an optimal solution\n",
    "if status == pywraplp.Solver.OPTIMAL:\n",
    "    print('Optimal Solution Found')\n",
    "else:\n",
    "    print('The problem does not have an optimal solution')\n"
   ],
   "id": "74727228d5234e84",
   "outputs": [],
   "execution_count": null
  },
  {
   "metadata": {},
   "cell_type": "markdown",
   "source": [
    "## Results\n",
    "\n",
    "If an optimal solution is found, we can extract the schedule for each employee and check the staffing levels for each shift."
   ],
   "id": "64e015bc73beb901"
  },
  {
   "metadata": {},
   "cell_type": "code",
   "source": [
    "# Build a table of the schedule\n",
    "schedule = {employee: {} for employee in employees}\n",
    "\n",
    "# Extract the schedule from the variables\n",
    "for employee, shift in variables:\n",
    "    if variables[employee, shift].solution_value() > 0.5:\n",
    "        schedule[employee][shift] = \"Assigned\"\n",
    "\n",
    "# Print the schedule\n",
    "import pandas as pd\n",
    "\n",
    "df_schedule = pd.DataFrame(schedule).fillna(\"\")\n",
    "df_schedule.style.set_caption('Employee Schedule')\n",
    "\n",
    "df_schedule"
   ],
   "id": "58d3c5aa9c0c06e0",
   "outputs": [],
   "execution_count": null
  },
  {
   "metadata": {},
   "cell_type": "markdown",
   "source": [
    "## **Conclusion**\n",
    "\n",
    "In this notebook, we demonstrated how to use **Google OR-Tools** to solve a common scheduling problem efficiently. By defining appropriate constraints and an objective function, we created a fair and optimal schedule for employees while meeting the minimum staffing requirements for each shift.\n",
    "\n",
    "This approach can be extended to more complex scheduling scenarios and additional constraints, making it a versatile tool for workforce management and optimization."
   ],
   "id": "239e33a686ca293b"
  }
 ],
 "metadata": {
  "kernelspec": {
   "display_name": "Python 3",
   "language": "python",
   "name": "python3"
  },
  "language_info": {
   "codemirror_mode": {
    "name": "ipython",
    "version": 2
   },
   "file_extension": ".py",
   "mimetype": "text/x-python",
   "name": "python",
   "nbconvert_exporter": "python",
   "pygments_lexer": "ipython2",
   "version": "2.7.6"
  }
 },
 "nbformat": 4,
 "nbformat_minor": 5
}
