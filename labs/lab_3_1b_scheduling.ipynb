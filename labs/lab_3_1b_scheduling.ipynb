{
 "cells": [
  {
   "metadata": {},
   "cell_type": "markdown",
   "source": [
    "# # AI Workshop - Lab 3-1b: Scheduling\n",
    "## Employee Scheduling Optimization Using Google OR-Tools\n",
    "\n",
    "This notebook will guide you through solving an employee scheduling problem using Google OR-Tools. We will schedule employees for a workweek, ensuring each employee works within their required minimum and maximum hours, while also meeting a minimum staffing level for each shift.\n",
    "\n",
    "## Problem Overview\n",
    "\n",
    "Imagine a company that needs to schedule employees for a workweek. Each employee has specific constraints:\n",
    "- **Minimum shifts**: The least number of shifts they must work during the week.\n",
    "- **Maximum shifts**: The most number of shifts they can work during the week.\n",
    "\n",
    "Additionally, the company requires a minimum number of employees to be working during each shift.\n",
    "\n",
    "The goal is to determine the optimal schedule that meets all these constraints."
   ],
   "id": "6fa59de27c557855"
  },
  {
   "metadata": {},
   "cell_type": "code",
   "source": "!pip install ortools",
   "id": "e7843855a071b326",
   "outputs": [],
   "execution_count": null
  },
  {
   "metadata": {},
   "cell_type": "code",
   "source": "from ortools.linear_solver import pywraplp",
   "id": "77a4a30f79980545",
   "outputs": [],
   "execution_count": null
  },
  {
   "metadata": {},
   "cell_type": "markdown",
   "source": [
    "## Problem Data\n",
    "\n",
    "We'll use the following data for our problem:\n",
    "\n",
    "- **Employees**: A list of employees, each with their own minimum and maximum shifts.\n",
    "- **Shifts**: A list of shifts (e.g., morning, afternoon, evening) for each day of the workweek.\n",
    "- **Minimum Staffing**: The minimum number of employees required for each shift.\n",
    "\n",
    "Fill out this data with your own values to test the model."
   ],
   "id": "5a90a293ea50e76e"
  },
  {
   "metadata": {},
   "cell_type": "code",
   "source": [
    "# Data\n",
    "\n",
    "# Employees and their constraints\n",
    "employees = {\n",
    "    'Alice': {'min_shifts': 2, 'max_shifts': 14},\n",
    "    'Bob': {'min_shifts': 3, 'max_shifts': 15},\n",
    "    'Charlie': {'min_shifts': 2, 'max_shifts': 13},\n",
    "    'David': {'min_shifts': 4, 'max_shifts': 5},\n",
    "    'Eve': {'min_shifts': 3, 'max_shifts': 14},\n",
    "    'Frank': {'min_shifts': 2, 'max_shifts': 3},\n",
    "}\n",
    "\n",
    "# Shifts for one week (Monday to Friday, 3 shifts per day)\n",
    "shifts = [\n",
    "    'Monday Morning', 'Monday Afternoon', 'Monday Evening',\n",
    "    'Tuesday Morning', 'Tuesday Afternoon', 'Tuesday Evening',\n",
    "    'Wednesday Morning', 'Wednesday Afternoon', 'Wednesday Evening',\n",
    "    'Thursday Morning', 'Thursday Afternoon', 'Thursday Evening',\n",
    "    'Friday Morning', 'Friday Afternoon', 'Friday Evening',\n",
    "]\n",
    "\n",
    "# Minimum number of employees required per shift\n",
    "min_staffing = {\n",
    "    shift: 2 for shift in shifts  # All shifts require at least 2 employees\n",
    "}\n",
    "\n",
    "# Verify data completeness\n",
    "assert len(employees) > 0, \"No employees defined\"\n",
    "assert len(shifts) > 0, \"No shifts defined\"\n",
    "assert all(shift in min_staffing for shift in shifts), \"Incomplete staffing requirements\""
   ],
   "id": "790ccf563f5d9b72",
   "outputs": [],
   "execution_count": null
  },
  {
   "metadata": {},
   "cell_type": "markdown",
   "source": [
    "## Model\n",
    "\n",
    "We'll define an integer programming model for this problem. Each employee will have a binary variable for each shift, indicating whether they are assigned to that shift. We will add constraints to ensure:\n",
    "1. Each employee's total hours fall within their minimum and maximum limits.\n",
    "2. Each shift has at least the required minimum number of employees."
   ],
   "id": "c9b10224ca3fcd7e"
  },
  {
   "metadata": {},
   "cell_type": "code",
   "source": [
    "# Create the solver\n",
    "solver = pywraplp.Solver.CreateSolver('SCIP')  # SCIP is suitable for integer programming"
   ],
   "id": "7dbb4f45b62eb593",
   "outputs": [],
   "execution_count": null
  },
  {
   "metadata": {},
   "cell_type": "markdown",
   "source": [
    "## Decision Variables\n",
    "\n",
    "We'll create binary decision variables to represent whether an employee is assigned to a shift. These variables will be 1 if the employee works a shift, and 0 otherwise."
   ],
   "id": "606587bafb7f3c58"
  },
  {
   "metadata": {},
   "cell_type": "code",
   "source": [
    "# Decision variables\n",
    "variables = {}\n",
    "for employee in employees:\n",
    "    for shift in shifts:\n",
    "        variables[employee, shift] = solver.BoolVar(f'{employee}_{shift}')\n",
    "\n",
    "# Verify variables\n",
    "len(variables)"
   ],
   "id": "36338220ad94d1f2",
   "outputs": [],
   "execution_count": null
  },
  {
   "metadata": {},
   "cell_type": "markdown",
   "source": [
    "## Constraints\n",
    "\n",
    "### 1. Employee Hour Constraints\n",
    "\n",
    "Each employee must work within their specified minimum and maximum shifts during the week.\n",
    "\n",
    "### 2. Minimum Staffing Constraints\n",
    "\n",
    "Each shift must have at least the required number of employees assigned to it."
   ],
   "id": "55795d05e6f4b2e6"
  },
  {
   "metadata": {},
   "cell_type": "code",
   "source": [
    "# Constraints\n",
    "\n",
    "# Employee Hour Constraints: each employee must work between their minimum and maximum shifts\n",
    "for employee, constraints in employees.items():\n",
    "    total_shifts = sum(variables[employee, shift] for shift in shifts)\n",
    "    solver.Add(total_shifts >= constraints['min_shifts'])\n",
    "    solver.Add(total_shifts <= constraints['max_shifts'])\n",
    "\n",
    "# Minimum Staffing Constraints: each shift must have at least the required number of employees\n",
    "for shift in shifts:\n",
    "    total_staffing = sum(variables[employee, shift] for employee in employees)\n",
    "    solver.Add(total_staffing >= min_staffing[shift])\n",
    "\n",
    "# Verify constraints\n",
    "solver.NumConstraints()"
   ],
   "id": "2222f5b74a58c8de",
   "outputs": [],
   "execution_count": null
  },
  {
   "metadata": {},
   "cell_type": "markdown",
   "source": [
    "## Objective Function\n",
    "\n",
    "The goal is to balance the workload as evenly as possible among employees. We'll minimize the maximum number of hours worked by any single employee to achieve this."
   ],
   "id": "f985f88963021f80"
  },
  {
   "metadata": {},
   "cell_type": "code",
   "source": [
    "# Objective: Minimize the maximum workload\n",
    "max_workload = solver.NumVar(0, solver.infinity(), 'max_workload')\n",
    "\n",
    "for employee in employees:\n",
    "    total_shifts = sum(variables[employee, shift] for shift in shifts)\n",
    "    solver.Add(total_shifts <= max_workload)\n",
    "\n",
    "solver.Minimize(max_workload)"
   ],
   "id": "58007dd02533daa8",
   "outputs": [],
   "execution_count": null
  },
  {
   "metadata": {},
   "cell_type": "markdown",
   "source": [
    "## Solve the Model\n",
    "\n",
    "Let's run the solver and check if it finds an optimal solution."
   ],
   "id": "bdae686739216984"
  },
  {
   "metadata": {},
   "cell_type": "code",
   "source": [
    "# Solve the model\n",
    "status = solver.Solve()\n",
    "\n",
    "# Check if the problem has an optimal solution\n",
    "if status == pywraplp.Solver.OPTIMAL:\n",
    "    print('Optimal Solution Found')\n",
    "else:\n",
    "    print('The problem does not have an optimal solution')\n"
   ],
   "id": "74727228d5234e84",
   "outputs": [],
   "execution_count": null
  },
  {
   "metadata": {},
   "cell_type": "markdown",
   "source": [
    "## Results\n",
    "\n",
    "If an optimal solution is found, we can extract the schedule for each employee and check the staffing levels for each shift."
   ],
   "id": "64e015bc73beb901"
  },
  {
   "metadata": {},
   "cell_type": "code",
   "source": [
    "# Print the schedule\n",
    "if status == pywraplp.Solver.OPTIMAL:\n",
    "    print('Employee Schedule:')\n",
    "    for employee in employees:\n",
    "        shifts_worked = [\n",
    "            shift for shift in shifts if variables[employee, shift].solution_value() > 0.5\n",
    "        ]\n",
    "        print(f'{employee}: {shifts_worked}')\n",
    "\n",
    "    print('\\nStaffing Levels:')\n",
    "    for shift in shifts:\n",
    "        staff = [\n",
    "            employee for employee in employees if variables[employee, shift].solution_value() > 0.5\n",
    "        ]\n",
    "        print(f'{shift}: {len(staff)} employees')\n",
    "else:\n",
    "    print('No feasible schedule found')\n"
   ],
   "id": "58d3c5aa9c0c06e0",
   "outputs": [],
   "execution_count": null
  },
  {
   "metadata": {},
   "cell_type": "markdown",
   "source": [
    "# Extending the Employee Scheduling Model: Minimizing Cost\n",
    "\n",
    "In this extension, we'll introduce a different rate of pay for each employee. Our goal is to minimize the total cost of the schedule, in addition to meeting all the constraints we've already defined. Each employee has a specified hourly rate, and the total cost will depend on the number of shifts they work during the week.\n",
    "\n",
    "---\n",
    "\n",
    "## Adding Employee Pay Rates\n",
    "\n",
    "Each employee is assigned a pay rate. These rates will be multiplied by the shifts worked to compute the total cost. We'll add this to our model by modifying the objective function.\n",
    "\n",
    "Here's how we'll do it:\n",
    "1. **Define Pay Rates**: Add a dictionary that specifies the shift rate for each employee.\n",
    "2. **Modify the Objective Function**: Update the objective function to minimize the total pay instead of balancing workload.\n",
    "3. **Guide the Participant**: They'll implement this step-by-step with hints.\n",
    "\n"
   ],
   "id": "239e33a686ca293b"
  },
  {
   "metadata": {},
   "cell_type": "code",
   "source": [
    "# Pay rates for each employee\n",
    "pay_rates = {\n",
    "    'Alice': 25,  # $25/shift\n",
    "    'Bob': 30,    # $30/shift\n",
    "    'Charlie': 20 # $20/shift\n",
    "}\n",
    "\n",
    "# Verify the pay rates match the employees\n",
    "assert set(pay_rates.keys()) == set(employees.keys()), \"Pay rates must be defined for all employees\""
   ],
   "id": "4081939e9ace424f",
   "outputs": [],
   "execution_count": null
  },
  {
   "metadata": {},
   "cell_type": "markdown",
   "source": [
    "### Modifying the Objective Function\n",
    "\n",
    "We need to modify the model to minimize the total cost. The total cost is calculated as:\n",
    "$$\n",
    "\\text{Total Cost} = \\sum_{\\text{employee}} (\\text{hours worked by employee} \\times \\text{pay rate})\n",
    "$$\n",
    "\n",
    "---\n",
    "\n",
    "To include this in the model:\n",
    "1. For each employee, compute the total hours worked by summing their assigned shifts.\n",
    "2. Multiply the total hours by their hourly pay rate.\n",
    "3. Add this term to the solver's objective using the `SetCoefficient` method."
   ],
   "id": "8ca5bfefcdcf0de9"
  },
  {
   "metadata": {},
   "cell_type": "code",
   "source": [
    "# Step 1: Create the objective function\n",
    "total_cost = solver.Objective()\n",
    "\n",
    "# Step 2: Add cost contributions from each employee\n",
    "for employee in employees:\n",
    "    total_shifts = sum(variables[employee, shift] for shift in shifts)\n",
    "    # Multiply total hours by the pay rate and add to the objective\n",
    "    total_cost.SetCoefficient(total_shifts, pay_rates[employee])\n",
    "\n",
    "# Step 3: Set the objective to minimize total cost\n",
    "total_cost.SetMinimization()"
   ],
   "id": "c3b7072135f363cc",
   "outputs": [],
   "execution_count": null
  },
  {
   "metadata": {},
   "cell_type": "markdown",
   "source": [
    "### Solve and Compare\n",
    "\n",
    "Now that we've updated the objective, let's re-run the model to find the new optimal solution. The constraints remain the same, but the solution will now prioritize minimizing costs over balancing workloads.\n"
   ],
   "id": "e9d3ccc6b045eba"
  },
  {
   "metadata": {},
   "cell_type": "code",
   "source": [
    "# Solve the modified model\n",
    "status = solver.Solve()\n",
    "\n",
    "# Check if the problem has an optimal solution\n",
    "if status == pywraplp.Solver.OPTIMAL:\n",
    "    print('Optimal Solution Found')\n",
    "else:\n",
    "    print('The problem does not have an optimal solution')"
   ],
   "id": "77e516d115ff9538",
   "outputs": [],
   "execution_count": null
  },
  {
   "metadata": {},
   "cell_type": "code",
   "source": [
    "# Print the cost-optimized schedule and total cost\n",
    "if status == pywraplp.Solver.OPTIMAL:\n",
    "    print('Cost-Optimized Schedule:')\n",
    "    total_cost = 0\n",
    "    for employee in employees:\n",
    "        shifts_worked = [\n",
    "            shift for shift in shifts if variables[employee, shift].solution_value() > 0.5\n",
    "        ]\n",
    "        employee_shifts = len(shifts_worked)\n",
    "        employee_cost = employee_hours * pay_rates[employee]\n",
    "        total_cost += employee_cost\n",
    "        print(f'{employee}: {shifts_worked} (Shifts: {employee_shifts}, Cost: ${employee_cost:.2f})')\n",
    "\n",
    "    print(f'\\nTotal Cost: ${total_cost:.2f}')\n",
    "else:\n",
    "    print('No feasible schedule found')\n"
   ],
   "id": "5dd3344e867b7d63",
   "outputs": [],
   "execution_count": null
  },
  {
   "metadata": {},
   "cell_type": "markdown",
   "source": [
    "---\n",
    "\n",
    "### Final Questions:\n",
    "\n",
    "1. **Trade-offs in Objectives**: How does the cost-optimized schedule compare to the workload-balanced schedule? Are there significant differences in hours worked or staffing levels?\n",
    "2. **Experiment with Pay Rates**: What happens if you increase Alice's pay rate to $50/hour? Does the model still assign her the same number of shifts?\n",
    "3. **Hybrid Objective**: Can you think of a way to balance both minimizing costs and workloads? Hint: You might combine the two objectives into a weighted sum.\n",
    "\n",
    "This extension demonstrates the flexibility of linear programming models and the power of Google OR-Tools for tackling real-world scheduling problems with multiple objectives.\n"
   ],
   "id": "7bb7fe62c7d70129"
  }
 ],
 "metadata": {
  "kernelspec": {
   "display_name": "Python 3",
   "language": "python",
   "name": "python3"
  },
  "language_info": {
   "codemirror_mode": {
    "name": "ipython",
    "version": 2
   },
   "file_extension": ".py",
   "mimetype": "text/x-python",
   "name": "python",
   "nbconvert_exporter": "python",
   "pygments_lexer": "ipython2",
   "version": "2.7.6"
  }
 },
 "nbformat": 4,
 "nbformat_minor": 5
}
