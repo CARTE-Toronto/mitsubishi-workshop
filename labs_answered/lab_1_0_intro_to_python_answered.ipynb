{
 "cells": [
  {
   "cell_type": "markdown",
   "metadata": {
    "id": "mufCw98-EOTq"
   },
   "source": "# AI Workshop - Lab 1-0: Introduction to Python"
  },
  {
   "cell_type": "markdown",
   "metadata": {
    "id": "PFfPLA-2EOTu"
   },
   "source": [
    "In this lab, we're going to get acquainted with Python, NumPy, and scikit-learn. We're going to cover the following topics:\n",
    "\n",
    "1. Using Python in a notebook environment\n",
    "2. Basic NumPy operations\n",
    "3. Basic scikit-learn operations\n",
    "\n",
    "This lab is intended to help you become familiar with how we will run code in this workshop, as well as the basic tools we will be using. If you are already familiar with Python, NumPy, and scikit-learn, feel free to skip this lab and move onto Lab 1: Data Cleaning and Processing.\n",
    "\n",
    "##### Notebooks\n",
    "This lab will be using notebooks as a Python development environment. Notebooks are a great way to interactively develop code and are widely used in the data science community. They allow us to mix together code, text, and images in a single document.\n",
    "\n",
    "##### Cells\n",
    "\n",
    "Notebooks are made up of cells. Each cell can contain either code or text. You can change the type of a cell by selecting it and then selecting the appropriate type from the dropdown menu in the toolbar.\n",
    "\n",
    "When you want to run a cell, you can either click the \"play\" button next to the cell or press \"shift+enter\".\n",
    "\n",
    "#### Getting started\n",
    "\n",
    "Let's get started by running some Python code. When we work with Python, we almost always rely on _libraries_ - collections of code that provide functionality beyond what is available in the core Python language. In this lab, we're going to be using two libraries: NumPy and scikit-learn.\n",
    "\n",
    "**>> Run the code in the next cell** to import scikit-learn and NumPy."
   ]
  },
  {
   "cell_type": "code",
   "metadata": {
    "colab": {
     "base_uri": "https://localhost:8080/"
    },
    "id": "SFhv0y38EOTv",
    "outputId": "dfac40ee-58bb-4c1e-d5c9-9477c587659e"
   },
   "source": [
    "import sklearn\n",
    "import numpy as np"
   ],
   "outputs": [],
   "execution_count": null
  },
  {
   "cell_type": "markdown",
   "metadata": {
    "id": "i6EJDXQ2EOTx"
   },
   "source": [
    "### NumPy Basics\n",
    "\n",
    "Great. Let's move on to our next topic: getting a handle on NumPy basics. You can think of NumPy as a library that provides support for large, multi-dimensional arrays and matrices, along with a collection of mathematical functions to operate on these arrays.\n",
    "\n",
    "While Python supports many of the same operations as NumPy, NumPy is much more efficient and is optimized for numerical operations.\n",
    "\n",
    "Let's create a 2x4 array containing the numbers 1 through 8 and conduct some basic operations on it.  \n",
    "**>> Run the code in the next cell to create and print the array.***"
   ]
  },
  {
   "cell_type": "code",
   "metadata": {
    "colab": {
     "base_uri": "https://localhost:8080/"
    },
    "id": "cQxQkId8EOTx",
    "outputId": "eac95daa-2c34-4dde-8b8d-fd2e00cd9cb5"
   },
   "source": [
    "# Create a variable called \"array\" and fill it with a 2x4 NumPy array\n",
    "array = np.arange(8).reshape(2,4)\n",
    "array"
   ],
   "outputs": [],
   "execution_count": null
  },
  {
   "cell_type": "markdown",
   "metadata": {
    "id": "zmbEmYFPEOTz"
   },
   "source": [
    "We can access the shape, number of dimensions, data type, and number of elements in our array as follows:  \n",
    "*(Tip: use \"print()\" when you want a cell to output more than one thing, or you want to append text to your output, otherwise the cell will output the last object you call, as in the cell above)*"
   ]
  },
  {
   "cell_type": "code",
   "metadata": {
    "colab": {
     "base_uri": "https://localhost:8080/"
    },
    "id": "VIuwFnemEOTz",
    "outputId": "9fad6c3e-f102-4738-ff8f-908da5b4364a"
   },
   "source": [
    "print (\"Shape:\", array.shape)\n",
    "print (\"Dimensions:\", array.ndim)\n",
    "print (\"Data type:\" , array.dtype.name)\n",
    "print (\"Number of elements:\", array.size)"
   ],
   "outputs": [],
   "execution_count": null
  },
  {
   "cell_type": "markdown",
   "metadata": {
    "id": "Q-y0kkdeEOT0"
   },
   "source": [
    "If we have a Python list containing a set of numbers, we can use it to create an array:  \n",
    "*(Tip: if you click on a function call, such as array(), and press \"shift+tab\" the Notebook will provide you all the details of the function)*"
   ]
  },
  {
   "cell_type": "code",
   "metadata": {
    "colab": {
     "base_uri": "https://localhost:8080/"
    },
    "id": "MTl7XGG2EOT1",
    "outputId": "1b592f1b-1d85-4684-de6c-f746b945cd15"
   },
   "source": [
    "mylist = [0, 1, 1, 2, 3, 5, 8, 13, 21]\n",
    "myarray = np.array(mylist)\n",
    "myarray"
   ],
   "outputs": [],
   "execution_count": null
  },
  {
   "cell_type": "markdown",
   "metadata": {
    "id": "qz0g0_mYEOT2"
   },
   "source": [
    "And we can do it for nested lists as well, creating multidimensional NumPy arrays:"
   ]
  },
  {
   "cell_type": "code",
   "metadata": {
    "colab": {
     "base_uri": "https://localhost:8080/"
    },
    "id": "NAZUXTYcEOT2",
    "outputId": "8293931a-bc10-461a-e557-a7c554375a38"
   },
   "source": [
    "my2dlist = [[1,2,3],[4,5,6]]\n",
    "my2darray = np.array(my2dlist)\n",
    "my2darray"
   ],
   "outputs": [],
   "execution_count": null
  },
  {
   "cell_type": "markdown",
   "metadata": {
    "id": "E1bkuyDAEOT3"
   },
   "source": [
    "We can also index and slice NumPy arrays like we would do with a Python list or another container object as follows:"
   ]
  },
  {
   "cell_type": "code",
   "metadata": {
    "colab": {
     "base_uri": "https://localhost:8080/"
    },
    "id": "JnZjmyCqEOT3",
    "outputId": "db7d0be3-8cc7-4363-f570-b3b69bbf0219"
   },
   "source": [
    "array = np.arange(10)\n",
    "print (\"Originally: \", array)\n",
    "print (\"First four elements: \", array[:4])\n",
    "print (\"After the first four elements: \", array[4:])\n",
    "print (\"The last element: \", array[-1])"
   ],
   "outputs": [],
   "execution_count": null
  },
  {
   "cell_type": "markdown",
   "metadata": {
    "id": "Lp6nck2REOT4"
   },
   "source": [
    "And we can index/slice multidimensional arrays, too."
   ]
  },
  {
   "cell_type": "code",
   "metadata": {
    "colab": {
     "base_uri": "https://localhost:8080/"
    },
    "id": "EdLxn49WEOT4",
    "outputId": "09f0e7d5-9e95-4bd7-bfa9-5258e81279da"
   },
   "source": [
    "array = np.array([[1,2,3],[4,5,6]])\n",
    "print (\"Originally: \", array)\n",
    "print (\"First row only: \", array[0])\n",
    "print (\"First column only: \", array[:,0])"
   ],
   "outputs": [],
   "execution_count": null
  },
  {
   "cell_type": "markdown",
   "metadata": {
    "id": "rQYx2QXiEOT5"
   },
   "source": [
    "#### Sneak preview\n",
    "\n",
    "Often, when designing a machine learning classifier, it can be useful to compare an array of predictions (0 or 1 values) to another array of true values. We can do this pretty easily in NumPy to compute the *accuracy* (e.g., the number of values that are the same), for example, as follows:"
   ]
  },
  {
   "cell_type": "code",
   "metadata": {
    "colab": {
     "base_uri": "https://localhost:8080/"
    },
    "id": "_rzMxsmLEOT5",
    "outputId": "5c6c88c0-42de-457a-b99a-650087761b36"
   },
   "source": [
    "true_values = [0, 0, 1, 1, 1, 1, 1, 0, 1, 0]\n",
    "predictions = [0, 0, 0, 1, 1, 1, 0, 1, 1, 0]\n",
    "\n",
    "true_values_array = np.array(true_values)\n",
    "predictions_array = np.array(predictions)\n",
    "\n",
    "accuracy = np.sum(true_values_array == predictions_array) / true_values_array.size\n",
    "print (\"Accuracy: \", accuracy * 100, \"%\")"
   ],
   "outputs": [],
   "execution_count": null
  },
  {
   "cell_type": "markdown",
   "metadata": {
    "id": "pDNpaymPEOT5"
   },
   "source": [
    "In the previous cell, we took two Python lists, converted them to NumPy arrays, and then used a combination of np.sum() and .size to compute the accuracy (proportion of elements that are pairwise equal). A tiny bit more advanced, but demonstrates the power of NumPy arrays.\n",
    "\n",
    "You'll notice we didn't used nested loops to conduct the comparison, but instead used the np.sum() function. This is an example of a vectorized operation within NumPy that is much more efficient when dealing with large datasets."
   ]
  },
  {
   "cell_type": "markdown",
   "metadata": {
    "id": "mmNWbLweEOT6"
   },
   "source": [
    "### Scikit-learn Basics\n",
    "\n",
    "Scikit-learn is a great library to use for doing machine learning in Python. Data preparation, exploratory data analysis (EDA), classification, regression, clustering; it has it all. \n",
    "\n",
    "Scikit-learn usually expects data to be in the form of a 2D matrix with dimensions *n_samples x n_features* with an additional column for the target. To get acquainted with scikit-learn, we are going to use the [iris dataset](https://archive.ics.uci.edu/ml/datasets/iris), one of the most famous datasets in pattern recognition. \n",
    "\n",
    "Each entry in the dataset represents an iris plant, and is categorized as: \n",
    "\n",
    "* Setosa (class 0)\n",
    "* Versicolor (class 1)\n",
    "* Virginica (class 2)\n",
    "\n",
    "These represent the target classes to predict. Each entry also includes a set of features, namely:\n",
    "\n",
    "* Sepal width (cm)\n",
    "* Sepal length (cm)\n",
    "* Petal length (cm)\n",
    "* Petal width (cm)\n",
    "\n",
    "In the context of machine learning classification, the remainder of the lab is going to investigate the following question:  \n",
    "*Can we design a model that, based on the iris sample features, can accurately predict the iris sample class? *\n",
    "\n",
    "Scikit-learn has a copy of the iris dataset readily importable for us. Let's grab it now and conduct some EDA."
   ]
  },
  {
   "cell_type": "code",
   "metadata": {
    "id": "g2-wyZx6EOT6"
   },
   "source": [
    "from sklearn.datasets import load_iris\n",
    "iris_data = load_iris()\n",
    "feature_data = iris_data.data"
   ],
   "outputs": [],
   "execution_count": null
  },
  {
   "cell_type": "markdown",
   "metadata": {
    "id": "tr3OodXEEOT6"
   },
   "source": [
    "**YOUR TURN:** \"feature_data\" now contains the feature data for all of the iris samples. \n",
    "* What is the shape of this feature data? ________________\n",
    "* The data type? ________________\n",
    "* How many samples are there? ________________\n",
    "* How many features are there? ________________"
   ]
  },
  {
   "cell_type": "code",
   "metadata": {
    "colab": {
     "base_uri": "https://localhost:8080/"
    },
    "id": "dGSb93AUEOT7",
    "outputId": "b7b1f98e-5483-4040-ba35-a9afb98b43c9"
   },
   "source": [
    "## Enter your code here\n"
   ],
   "outputs": [],
   "execution_count": null
  },
  {
   "cell_type": "markdown",
   "metadata": {
    "id": "ADPK_IktEOT7"
   },
   "source": [
    "Next, we will save the target classification data in a similar fashion."
   ]
  },
  {
   "cell_type": "code",
   "metadata": {
    "id": "txwjzkomEOT7"
   },
   "source": [
    "target_data = iris_data.target\n",
    "target_names = iris_data.target_names"
   ],
   "outputs": [],
   "execution_count": null
  },
  {
   "cell_type": "markdown",
   "metadata": {
    "id": "iNjpq5XcEOT8"
   },
   "source": [
    "**YOUR TURN:**\n",
    "* What values are in \"target_data\"? ________________\n",
    "* What is the data type? ________________\n",
    "* What values are in \"target_names\"? ________________\n",
    "* What is the data type? ____________\n",
    "* How many samples are of type \"setosa\"? ________________"
   ]
  },
  {
   "cell_type": "code",
   "metadata": {
    "colab": {
     "base_uri": "https://localhost:8080/"
    },
    "id": "Qbk1mRqYEOT8",
    "outputId": "cb768dbe-3ca7-4e0e-85e2-acaaf24bfc32"
   },
   "source": [
    "## Enter your code here\n"
   ],
   "outputs": [],
   "execution_count": null
  },
  {
   "cell_type": "markdown",
   "metadata": {
    "id": "DZkEii2tEOT8"
   },
   "source": [
    "We can also do some more visual EDA by plotting the samples according to a subset of the features and coloring the data points to coincide with the sample classification. We will use [matplotlib](https://matplotlib.org/), a powerful plotting library within Python, to accomplish this.\n",
    "\n",
    "For example, lets plot sepal width vs. sepal length.\n"
   ]
  },
  {
   "cell_type": "code",
   "metadata": {
    "id": "TsbZwsJbEOT8"
   },
   "source": [
    "import matplotlib.pyplot as plt"
   ],
   "outputs": [],
   "execution_count": null
  },
  {
   "cell_type": "code",
   "metadata": {
    "colab": {
     "base_uri": "https://localhost:8080/",
     "height": 313
    },
    "id": "yctO8uMCEOT9",
    "outputId": "8cb50903-b2d4-4a13-8c4a-ce55f299ebec"
   },
   "source": [
    "setosa = feature_data[target_data==0]\n",
    "versicolor = feature_data[target_data==1]\n",
    "virginica = feature_data[target_data==2]\n",
    "\n",
    "plt.scatter(setosa[:,0], setosa[:,1], label=\"setosa\")\n",
    "plt.scatter(versicolor[:,0], versicolor[:,1], label=\"versicolor\")\n",
    "plt.scatter(virginica[:,0], virginica[:,1], label=\"virginica\")\n",
    "\n",
    "plt.legend()\n",
    "plt.xlabel(\"sepal length (cm)\")\n",
    "plt.ylabel(\"sepal width (cm)\")\n",
    "plt.title(\"Visual EDA\")"
   ],
   "outputs": [],
   "execution_count": null
  },
  {
   "cell_type": "markdown",
   "metadata": {
    "id": "WZruiACNEOT9"
   },
   "source": [
    "In the above step, we used boolean indexing to filter the feature data based on the target data class. This allowed us to create a scatter plot for each of the iris classes and distinguish them by color.\n",
    "\n",
    "*Observations*: We can see that the \"setosa\" class typically consists of medium-to-high sepal width with low-to-medium sepal length, while the other two classes have lower width and higher length. The \"virginica\" class appears to have the largest combination of the two. \n",
    "\n",
    "**YOUR TURN:** \n",
    "* Which of the iris classes is seperable based on sepal characteristics? ________________\n",
    "* Which of the iris classes is not? ________________\n",
    "* Can we (easily) visualize each of the samples w.r.t. all features on the same plot? Why/why not? ________________"
   ]
  }
 ],
 "metadata": {
  "colab": {
   "name": "lab-1-1-basics.ipynb",
   "provenance": []
  },
  "kernelspec": {
   "display_name": "Python 3 (ipykernel)",
   "language": "python",
   "name": "python3"
  },
  "language_info": {
   "codemirror_mode": {
    "name": "ipython",
    "version": 3
   },
   "file_extension": ".py",
   "mimetype": "text/x-python",
   "name": "python",
   "nbconvert_exporter": "python",
   "pygments_lexer": "ipython3",
   "version": "3.8.12"
  }
 },
 "nbformat": 4,
 "nbformat_minor": 4
}
