{
 "cells": [
  {
   "metadata": {
    "id": "89800ddaafaa2296"
   },
   "cell_type": "markdown",
   "source": [
    "# AI Workshop - Lab 2-2: Intent Classification\n",
    "\n",
    "In this lab, we’ll build a system to classify customer text messages into different categories (called **intents**) using a powerful type of AI model called a transformer. Transformers are a key technology behind tools like ChatGPT and other modern language systems.\n",
    "\n",
    "### Data Overview\n",
    "\n",
    "We’re working with a dataset of customer text messages that has already been labeled with their intent (e.g., \"Order Status\", \"Product Inquiry\", \"Account Help\"). The goal is to teach the model to recognize these patterns so it can classify new messages correctly.\n",
    "\n",
    "- **Number of Categories**: 27 different intents.\n",
    "\n",
    "### What You’ll Learn\n",
    "- **Transformers**: Get an introduction to these models and why they’re so powerful for language tasks.\n",
    "- **Model Evaluation**: Understand how to measure a model’s performance and interpret its predictions."
   ],
   "id": "89800ddaafaa2296"
  },
  {
   "metadata": {
    "colab": {
     "base_uri": "https://localhost:8080/"
    },
    "id": "3d3c731f7713c24a",
    "outputId": "6636a0a0-510d-4077-e198-b166deea19ee",
    "ExecuteTime": {
     "end_time": "2024-12-04T20:36:31.775601Z",
     "start_time": "2024-12-04T20:36:30.889704Z"
    }
   },
   "cell_type": "code",
   "source": [
    "!pip install -Uq datasets transformers accelerate evaluate sentencepiece sacremoses"
   ],
   "id": "3d3c731f7713c24a",
   "outputs": [],
   "execution_count": 1
  },
  {
   "metadata": {
    "id": "1bcffd8486a0820c"
   },
   "cell_type": "markdown",
   "source": [
    "For this lab, it's essential that we have a GPU available to speed up training. On Google Colab, you can enable a GPU by going to **Runtime** > **Change runtime type** > **Hardware accelerator** > **GPU**.\n",
    "\n",
    "The following line of code will check if a GPU is available:"
   ],
   "id": "1bcffd8486a0820c"
  },
  {
   "metadata": {
    "colab": {
     "base_uri": "https://localhost:8080/"
    },
    "id": "967b287ee6c7830c",
    "outputId": "4502ef03-2859-4fff-927f-2168ea077957",
    "ExecuteTime": {
     "end_time": "2024-12-04T20:36:32.884065Z",
     "start_time": "2024-12-04T20:36:31.779561Z"
    }
   },
   "cell_type": "code",
   "source": [
    "import torch\n",
    "device = torch.device('cuda' if torch.cuda.is_available() else 'cpu')\n",
    "if device.type == 'cuda':\n",
    "    print('GPU is available!')\n",
    "else:\n",
    "    print('GPU is not available. Enable a GPU runtime in Colab under \"Runtime\" > \"Change runtime type\".')"
   ],
   "id": "967b287ee6c7830c",
   "outputs": [
    {
     "name": "stdout",
     "output_type": "stream",
     "text": [
      "GPU is available!\n"
     ]
    }
   ],
   "execution_count": 2
  },
  {
   "metadata": {
    "id": "b3a8dbd2fdcd2d6b"
   },
   "cell_type": "markdown",
   "source": [
    "### Loading the Dataset\n",
    "\n",
    "Now that we’ve set up our environment and imported the necessary packages, let’s begin by loading our dataset.\n",
    "\n",
    "In this lab, we’ll work with a dataset of **customer text messages** that have been labeled with their **intent**. Each sample in the dataset includes a text message and a corresponding label indicating the intent behind the message (e.g., inquiry, complaint, order request). This dataset will allow us to build and evaluate models for intent classification.\n",
    "\n",
    "#### Steps:\n",
    "1. **Load the Dataset**:\n",
    "   - Use the `load_dataset` function from the `datasets` library to download and load the dataset.\n",
    "   - The dataset we’re using is hosted at `\"alexwaolson/customer-intents\"`.\n",
    "2. **Inspect the Dataset**:\n",
    "   - After loading, examine the training split (`intents['train']`) to understand its structure and the data it contains."
   ],
   "id": "b3a8dbd2fdcd2d6b"
  },
  {
   "cell_type": "code",
   "id": "initial_id",
   "metadata": {
    "collapsed": true,
    "colab": {
     "base_uri": "https://localhost:8080/",
     "height": 584,
     "referenced_widgets": [
      "ef863cb72e2c4c93a4ff41ea7981b673",
      "048b8f9b8fb84fb693f34a2110548e84",
      "97894e038ec64c489a69d74fbe7fa43e",
      "9805a2ede70c4c778e317a20c2cd62d8",
      "f8d9436b467345a1a4b7fabda1565917",
      "92ae97d7f7824f748ccebab2900cd94e",
      "ca83d66b896545daacafad0996343457",
      "c6f248006f0b467ab97647a3d973e779",
      "7e1128c751eb4eff9f4dd1673407fff0",
      "39682ae2c6c84aedb9d1f9c7861b06a4",
      "35eeda6663d0434abf328018a130a273",
      "5c739570c30342378e2cdbddcd1957c6",
      "fbfd1bd4d56e4602b52f21d1c9aa2327",
      "8dbffc9e89e44a09a9552a0b6e2eb526",
      "ff8942afee6e44bbbbb9aab397a4c555",
      "3a7471f333b2478988d7dfcdf64043a8",
      "41ceed3dd37a40f28f2e6da6e12d9c2b",
      "93ad28d79d484bdaad0b49151ef1d2f5",
      "671ff29747d14fcdb737185a4ecdae24",
      "6fd8edd969214151babecb65cc8b095a",
      "40b9bc17df714bb0bea58babb4a59d4c",
      "962bbf0521864a4499be0170c2378349",
      "a3c524cd561048c1ad1b1ccb807c4783",
      "6b280feea2a7424fadbbfb546696d6eb",
      "59d2949dc59b476dac7dcf36773393cd",
      "548396ffaca64a5a916c8b17c0269e99",
      "bcdad037f9bb414b997da5c4bb0c9a3c",
      "7e5b54c80fe04cd68943a22438287a4d",
      "ab16d1834e9a49da96ce8d56b846cae2",
      "cb0cba9fa3c24d569718d38803cfd4ed",
      "ead6b4f52fc841f9b02bd39d861a5551",
      "e103bddf2077414aa93463bc2b8dd274",
      "a1c700f4eef343cdabbafe34d8a94125",
      "a2644a04ac354da2bf8c47c84f4c87e4",
      "588e856c2c5f4fc281f99db3d29be973",
      "13a9cc4e2b594b3e9fe5c75cae84d063",
      "3966fdc10c1546109378b528e6b91da1",
      "4dda6d54522741f4bc0b6f4a35765cd6",
      "470fcd7938794dd9aeaa0d6f42456dc6",
      "b585664d9d9043878ab57ddcec134756",
      "f0d19087bd9d4d8787f969260d98d48e",
      "8c0cddc7263a4052a566c7572381f0e4",
      "9921b3da934245839bd80e79011dfae9",
      "eb8ca25eb6d649ec807a98a058066f87",
      "a5a2bb1c12dd4119b0f1a6ebb2dad26e",
      "b6b0109a410f4d008d9f4835f689b8d2",
      "e5555b6350e340d2806ebdb74b968e34",
      "f0088256b1304712844b01f0dc487305",
      "1d43ed3c0ec44bb8955e0166250bebdd",
      "5e2a0afa78fe4830b080f90fa99bdeb7",
      "e94d33ae6d7642ed9341a1b6c8a68f0d",
      "304d11eabf914a4682c66d8a7da450f8",
      "b1fc8620507946b2975af56f8ea6f7a6",
      "e7985991beb448b6993a00c58e50cf34",
      "d10b4b3e79874994a8308eed3c04a398"
     ]
    },
    "id": "initial_id",
    "outputId": "f3111590-e652-42ab-e0d5-3b86c861b584",
    "ExecuteTime": {
     "end_time": "2024-12-04T20:36:34.669813Z",
     "start_time": "2024-12-04T20:36:32.967434Z"
    }
   },
   "source": [
    "from datasets import load_dataset\n",
    "import pandas as pd\n",
    "\n",
    "# Load the customer intents dataset\n",
    "intents = load_dataset(\"alexwaolson/customer-intents\")\n",
    "\n",
    "# Display the training split\n",
    "pd.DataFrame(intents['train'])"
   ],
   "outputs": [
    {
     "data": {
      "text/plain": [
       "                                                message  \\\n",
       "0     acn uhelp me to download my bill from Anna Fre...   \n",
       "1                    I need to notify of payment errors   \n",
       "2     I'm trying to open an standard account for my ...   \n",
       "3                      checking invoices from Mr. Jones   \n",
       "4        I am waiting for a restitution of 1200 dollars   \n",
       "...                                                 ...   \n",
       "1550               mail me my invoice from Anna Freeman   \n",
       "1551  I have problems setting up another delivery ad...   \n",
       "1552  is it possible to check what payment options y...   \n",
       "1553              have a question about a lost padsword   \n",
       "1554                            getting refund of money   \n",
       "\n",
       "                        label  \n",
       "0                 get invoice  \n",
       "1               payment issue  \n",
       "2              create account  \n",
       "3               check invoice  \n",
       "4                track refund  \n",
       "...                       ...  \n",
       "1550              get invoice  \n",
       "1551  set up shipping address  \n",
       "1552    check payment methods  \n",
       "1553         recover password  \n",
       "1554               get refund  \n",
       "\n",
       "[1555 rows x 2 columns]"
      ],
      "text/html": [
       "<div>\n",
       "<style scoped>\n",
       "    .dataframe tbody tr th:only-of-type {\n",
       "        vertical-align: middle;\n",
       "    }\n",
       "\n",
       "    .dataframe tbody tr th {\n",
       "        vertical-align: top;\n",
       "    }\n",
       "\n",
       "    .dataframe thead th {\n",
       "        text-align: right;\n",
       "    }\n",
       "</style>\n",
       "<table border=\"1\" class=\"dataframe\">\n",
       "  <thead>\n",
       "    <tr style=\"text-align: right;\">\n",
       "      <th></th>\n",
       "      <th>message</th>\n",
       "      <th>label</th>\n",
       "    </tr>\n",
       "  </thead>\n",
       "  <tbody>\n",
       "    <tr>\n",
       "      <th>0</th>\n",
       "      <td>acn uhelp me to download my bill from Anna Fre...</td>\n",
       "      <td>get invoice</td>\n",
       "    </tr>\n",
       "    <tr>\n",
       "      <th>1</th>\n",
       "      <td>I need to notify of payment errors</td>\n",
       "      <td>payment issue</td>\n",
       "    </tr>\n",
       "    <tr>\n",
       "      <th>2</th>\n",
       "      <td>I'm trying to open an standard account for my ...</td>\n",
       "      <td>create account</td>\n",
       "    </tr>\n",
       "    <tr>\n",
       "      <th>3</th>\n",
       "      <td>checking invoices from Mr. Jones</td>\n",
       "      <td>check invoice</td>\n",
       "    </tr>\n",
       "    <tr>\n",
       "      <th>4</th>\n",
       "      <td>I am waiting for a restitution of 1200 dollars</td>\n",
       "      <td>track refund</td>\n",
       "    </tr>\n",
       "    <tr>\n",
       "      <th>...</th>\n",
       "      <td>...</td>\n",
       "      <td>...</td>\n",
       "    </tr>\n",
       "    <tr>\n",
       "      <th>1550</th>\n",
       "      <td>mail me my invoice from Anna Freeman</td>\n",
       "      <td>get invoice</td>\n",
       "    </tr>\n",
       "    <tr>\n",
       "      <th>1551</th>\n",
       "      <td>I have problems setting up another delivery ad...</td>\n",
       "      <td>set up shipping address</td>\n",
       "    </tr>\n",
       "    <tr>\n",
       "      <th>1552</th>\n",
       "      <td>is it possible to check what payment options y...</td>\n",
       "      <td>check payment methods</td>\n",
       "    </tr>\n",
       "    <tr>\n",
       "      <th>1553</th>\n",
       "      <td>have a question about a lost padsword</td>\n",
       "      <td>recover password</td>\n",
       "    </tr>\n",
       "    <tr>\n",
       "      <th>1554</th>\n",
       "      <td>getting refund of money</td>\n",
       "      <td>get refund</td>\n",
       "    </tr>\n",
       "  </tbody>\n",
       "</table>\n",
       "<p>1555 rows × 2 columns</p>\n",
       "</div>"
      ]
     },
     "execution_count": 3,
     "metadata": {},
     "output_type": "execute_result"
    }
   ],
   "execution_count": 3
  },
  {
   "metadata": {
    "id": "9b2a9381462eaa7f"
   },
   "cell_type": "markdown",
   "source": [
    "The dataset consists of two key columns:\n",
    "- **`message`**: Contains the text of the customer message.\n",
    "- **`label`**: Contains the intent category for each message.\n",
    "\n",
    "There are **27 possible intent categories** in this dataset. To understand the distribution of these categories, we can count the number of examples for each intent. This helps us determine whether the dataset is balanced (i.e., whether all categories have similar representation) or imbalanced (some categories have significantly more or fewer samples than others).\n",
    "\n",
    "Run the code below to calculate the distribution of intent labels:"
   ],
   "id": "9b2a9381462eaa7f"
  },
  {
   "metadata": {
    "colab": {
     "base_uri": "https://localhost:8080/",
     "height": 744
    },
    "id": "4b11c9f3d9801d3c",
    "outputId": "11f894e3-2689-444f-a739-ca0968ad24fa",
    "ExecuteTime": {
     "end_time": "2024-12-04T20:36:35.182822Z",
     "start_time": "2024-12-04T20:36:34.704188Z"
    }
   },
   "cell_type": "code",
   "source": [
    "from collections import Counter\n",
    "import matplotlib.pyplot as plt\n",
    "\n",
    "# Count the occurrences of each intent label in the training data\n",
    "label_counts = Counter(intents['train']['label'])\n",
    "print(f'Number of unique intents: {len(label_counts)}')\n",
    "\n",
    "# Plot the distribution of intent labels\n",
    "plt.figure(figsize=(12, 6))\n",
    "plt.bar(label_counts.keys(), label_counts.values())\n",
    "plt.xlabel('Intent Label')\n",
    "plt.ylabel('Number of Examples')\n",
    "plt.title('Distribution of Intent Labels')\n",
    "plt.xticks(rotation=90)\n",
    "plt.show()"
   ],
   "id": "4b11c9f3d9801d3c",
   "outputs": [
    {
     "name": "stdout",
     "output_type": "stream",
     "text": [
      "Number of unique intents: 27\n"
     ]
    },
    {
     "data": {
      "text/plain": [
       "<Figure size 1200x600 with 1 Axes>"
      ],
      "image/png": "[encoded data removed]"
     },
     "metadata": {},
     "output_type": "display_data"
    }
   ],
   "execution_count": 4
  },
  {
   "metadata": {
    "id": "f4d4fa07abd72385"
   },
   "cell_type": "markdown",
   "source": [
    "### Zero-Shot Learning\n",
    "\n",
    "One of the most powerful features of large language models is their ability to perform **zero-shot learning**. Unlike traditional models that require task-specific training, a zero-shot learning model can classify text based on its general understanding of language, even if it hasn’t been explicitly trained on that specific task.\n",
    "\n",
    "#### How It Works:\n",
    "- Instead of fine-tuning the model, you provide it with a **prompt** that describes the task and possible labels (e.g., \"What is the intent of this message?\").\n",
    "- The model uses its pre-trained knowledge to predict the most appropriate label.\n",
    "\n",
    "This approach leverages the model's extensive training on a wide variety of text, making it flexible for many tasks.\n",
    "\n",
    "#### Why Use Zero-Shot Learning?\n",
    "- **Quick Prototyping**: No need to preprocess or fine-tune the model for every new task.\n",
    "- **Versatility**: Works for tasks the model wasn’t explicitly trained on, as long as the task can be described in a prompt.\n",
    "\n",
    "#### Model Selection:\n",
    "For zero-shot classification, we’ll use the `flan-t5-large` model, which is well suited for this task due to its size and broad understanding of language. Since this model doesn’t require fine-tuning, we can focus on testing its performance directly."
   ],
   "id": "f4d4fa07abd72385"
  },
  {
   "metadata": {
    "id": "7dba3e9710c2523d"
   },
   "cell_type": "markdown",
   "source": [
    "### Zero-Shot Intent Classification with Flan-T5\n",
    "\n",
    "We’ll now use the **Flan-T5 large** model to classify intents via zero-shot learning. This approach involves crafting a **prompt** that describes the task and provides the model with the possible labels. The model then uses its language understanding to predict the intent without task-specific training.\n",
    "\n",
    "#### Prompt Construction\n",
    "The prompt is key to zero-shot learning. For our task:\n",
    "1. The prompt begins by instructing the model to classify the intent of the message.\n",
    "2. It lists the available intent categories.\n",
    "3. Finally, it appends the message to classify."
   ],
   "id": "7dba3e9710c2523d"
  },
  {
   "cell_type": "code",
   "source": [
    "# Define the prompt\n",
    "prompt = \"Classify the intent of the following message using these categories:\\n\"\n",
    "for label in label_counts.keys():\n",
    "    prompt += f\"- {label}\\n\"\n",
    "prompt += \"Message: \"\n",
    "\n",
    "print(prompt)"
   ],
   "metadata": {
    "colab": {
     "base_uri": "https://localhost:8080/"
    },
    "id": "61aiKHBmdwLj",
    "outputId": "082b0e20-8181-4d2d-cfb7-f0380421840a",
    "ExecuteTime": {
     "end_time": "2024-12-04T20:36:35.221927Z",
     "start_time": "2024-12-04T20:36:35.219093Z"
    }
   },
   "id": "61aiKHBmdwLj",
   "outputs": [
    {
     "name": "stdout",
     "output_type": "stream",
     "text": [
      "Classify the intent of the following message using these categories:\n",
      "- get invoice\n",
      "- payment issue\n",
      "- create account\n",
      "- check invoice\n",
      "- track refund\n",
      "- check payment methods\n",
      "- contact human agent\n",
      "- change shipping address\n",
      "- review\n",
      "- complaint\n",
      "- get refund\n",
      "- track order\n",
      "- check cancellation fee\n",
      "- switch account\n",
      "- recover password\n",
      "- place order\n",
      "- registration problems\n",
      "- cancel order\n",
      "- contact customer service\n",
      "- edit account\n",
      "- delivery period\n",
      "- delete account\n",
      "- check refund policy\n",
      "- set up shipping address\n",
      "- change order\n",
      "- newsletter subscription\n",
      "- delivery options\n",
      "Message: \n"
     ]
    }
   ],
   "execution_count": 5
  },
  {
   "cell_type": "code",
   "source": [
    "from transformers import T5Tokenizer, T5ForConditionalGeneration\n",
    "\n",
    "# Load the tokenizer and model\n",
    "tokenizer = T5Tokenizer.from_pretrained(\"google/flan-t5-large\")\n",
    "model = T5ForConditionalGeneration.from_pretrained(\"google/flan-t5-large\", device_map=\"cuda\" if torch.cuda.is_available() else \"cpu\")"
   ],
   "metadata": {
    "colab": {
     "base_uri": "https://localhost:8080/",
     "height": 330,
     "referenced_widgets": [
      "c0238628bf704e2a8138ba5ceff54dff",
      "0428d1010cee4291996f0e10577d2181",
      "bb7ebfaa3884459baf59ad4e26271717",
      "c82a2f72e181452aac3b5c16f434c387",
      "6783046e19ae49808641e122eaabcfc7",
      "b535f07cff3b44c488fcaec0bdbe3301",
      "711ccdd602304198961bcd5ca92cddad",
      "14d76e92e32e461b931ffdbd4a7c7f6c",
      "0a5676acc26749b1840e40cd25826c2f",
      "4fdc2ed4a1674253b7982492479b6d8f",
      "b879e4d12494495a873f56209af311aa",
      "9af40d0e8a834dd6bc2216a9165f9f4d",
      "5bc7d529cf214495bb2b2be20716da8a",
      "e2bd18bfd01e49dc83b24ee48ba98bc2",
      "faf28c9a4c6448e2b2026516e9918b75",
      "f951ea1719954dfba1c1d9deb395dad8",
      "7e89c61a636e46d0b0a2ef24cb56b5c7",
      "5f656d080c7e434098fcbc460225e9db",
      "67b6709176e64c63aacb2b9175644cc9",
      "f7e49b7ad98f4efb9b370495c5eb3932",
      "cce462b7cdda4070ad774740faee075d",
      "4a8e835940f04eeba8f6a5808eba8154",
      "96fa49ef8bd34ac5b87a3a0da20840af",
      "493263c36dc644c480e7607c30b329d2",
      "4f58c64a17364d1fbd823abd4132aa31",
      "5aaf53f423164f08a600ed1894e2820c",
      "b2b42ab3af7b432bbf943a4e2f01f96d",
      "5cf989c00a5f4730bf8a2a12702c0f1a",
      "458447fad5f54f0e87df0b9578430dc5",
      "0ca62e038c3742ce9ef9fd3c4c8198b0",
      "ef273d5d4a7b466b92b3a1ade2ec7a86",
      "3386ba4e15644262932caeb4f118bc1b",
      "c62a8686b3fa46a9a5722243dd8b19f7",
      "97b8685f6cea43b681810323f12e74a7",
      "f0288defb79d40079803edb684169612",
      "cdc4d9552cef4b8a8bf0e42bde17b2b4",
      "c8b1b38090594378b1fb88b2a7ebfd55",
      "81671fb0a87a4387aec943e32ebf19d9",
      "807ccaf75175421f89ae873541efc88d",
      "e982d1ccfea244a39234c42a1f458485",
      "d6aa2819ff094ffd9e285e646e9d5789",
      "fcb0b90d7acc4eccae23c876c7974a18",
      "9beade9c8c364ab1a89ed727c8e49c27",
      "758398561e384b6eb44843cd58500065",
      "4089032e170a423caf63c8e3c5355db2",
      "7d388b7eb1e34558a5188c737c357fb9",
      "dd4d549bd1074f7cab2ae741c5e18eab",
      "82ea70cea2d94685bde8c493151593ba",
      "205fd2f05b374dd69f6d741ed819a75a",
      "132e64b56cb647998510471fdab2ffe3",
      "4ee6cd04b8a7495693fc6b97900610d0",
      "22f2a5f16d2f4ebabd41b5a669d339d8",
      "f04f51c89ab243da8b99e74f3ce3f5fc",
      "7274c69b58864bfc9e1a7bca174ce1f6",
      "8040841722bf4229b1abcf73a63adba6",
      "3315efd49cb646cb9a58bb89e2ee6c85",
      "2bd1ddf04f5c46f9a63b0499f45d4639",
      "7f083d3a53ec49f998d80f2b895b19df",
      "dff35eda126e499c8654028646c1da98",
      "9b1fa650a9304b15ac4ad44f0d428658",
      "3d20041beca44395ab7a99f6272848ef",
      "942a3befb97b493f927253c0205db328",
      "41ec7f120df94969a8b9c06e80b9b6d9",
      "eb431c286aa24bc29879b4e41b460a89",
      "30e4e0e9ef4e4c4a8347023ec0356bc0",
      "fbcb1aa5c7aa42e3bd827ef41c714660",
      "8fbde3a1244c46e58e10fec601e77844",
      "f5982623b36a449ba0c38f17c2937c63",
      "f43669faf9d542c69d4e78532eea0015",
      "f58520bb665643e6bc1c02a659fca419",
      "b807a1beef164dd382cbc882f357a7d1",
      "abf8fbd50185493e9360a715bffbfae5",
      "20ba0cc5f81c48168b6c2dbe0df4114f",
      "b8b957a599a64192bf0d0a8ed54fea9f",
      "36bef644f92c4c39928bd67609f17da9",
      "02aa7f3c35ea45159fd0cc1abcab9748",
      "5e26ad7773a14c5aa4555ff3c724fbee",
      "6e3233f5003f4993aaffb5ff00a79049",
      "8b183cfc11e5404888484fa4ebb163be",
      "7762f6fc10b8489486e050610030d851",
      "fd7dd7f071f94912911990b402085dc9",
      "421df45899f747a6aa551ad7df253d51",
      "5d08b52f106b465bb1d50531af316e10",
      "3e71a1bca1a94eba92cc5f219f0a5173",
      "bf284d06152e433fa1a8723ce91514c6",
      "03517a2481ac4884a8352388f6a2a82e",
      "f453b6ec72dc4291b5f4e65d64de7c48",
      "814e1c3091244dc1aaa262200ef53458"
     ]
    },
    "id": "FQXAqKCDd_5T",
    "outputId": "e963340c-0015-4d81-f3bd-f4ba2346ba6d",
    "ExecuteTime": {
     "end_time": "2024-12-04T20:36:37.394505Z",
     "start_time": "2024-12-04T20:36:35.287398Z"
    }
   },
   "id": "FQXAqKCDd_5T",
   "outputs": [
    {
     "name": "stderr",
     "output_type": "stream",
     "text": [
      "You are using the default legacy behaviour of the <class 'transformers.models.t5.tokenization_t5.T5Tokenizer'>. This is expected, and simply means that the `legacy` (previous) behavior will be used so nothing changes for you. If you want to use the new behaviour, set `legacy=False`. This should only be set if you understand what it means, and thoroughly read the reason why this was added as explained in https://github.com/huggingface/transformers/pull/24565\n"
     ]
    }
   ],
   "execution_count": 6
  },
  {
   "metadata": {
    "colab": {
     "base_uri": "https://localhost:8080/",
     "height": 36
    },
    "id": "939de04f2e38e03d",
    "outputId": "9bd6f99a-e3ac-410b-c480-d3d5b0164463",
    "ExecuteTime": {
     "end_time": "2024-12-04T20:36:38.128254Z",
     "start_time": "2024-12-04T20:36:37.450420Z"
    }
   },
   "cell_type": "code",
   "source": [
    "# Function for zero-shot classification\n",
    "def zero_shot_intent_classification(model, prompt, message):\n",
    "    # Combine the prompt and the message\n",
    "    input_text = prompt + message\n",
    "    # Tokenize the input text\n",
    "    input_ids = tokenizer(input_text, return_tensors=\"pt\").input_ids.to(device)\n",
    "    # Generate a prediction\n",
    "    output = model.generate(input_ids, max_length=50, num_beams=5, early_stopping=True)\n",
    "    # Decode the prediction into text\n",
    "    return tokenizer.decode(output[0], skip_special_tokens=True)\n",
    "\n",
    "# Test the function\n",
    "zero_shot_intent_classification(model, prompt, \"I need to cancel my order\")"
   ],
   "id": "939de04f2e38e03d",
   "outputs": [
    {
     "data": {
      "text/plain": [
       "'cancel order'"
      ]
     },
     "execution_count": 7,
     "metadata": {},
     "output_type": "execute_result"
    }
   ],
   "execution_count": 7
  },
  {
   "metadata": {
    "id": "6526c7772ced2e9c"
   },
   "cell_type": "markdown",
   "source": [
    "### Testing Zero-Shot Intent Classification\n",
    "\n",
    "You can now test the zero-shot classification capabilities of the `flan-t5-large` model on a subset of messages from the test set. This will provide a sense of how well the model performs without task-specific training."
   ],
   "id": "6526c7772ced2e9c"
  },
  {
   "metadata": {
    "colab": {
     "base_uri": "https://localhost:8080/"
    },
    "id": "ac91494295609a37",
    "outputId": "b35f24ed-ed75-4365-9558-60ca8c1333b1",
    "ExecuteTime": {
     "end_time": "2024-12-04T20:36:39.218547Z",
     "start_time": "2024-12-04T20:36:38.137078Z"
    }
   },
   "cell_type": "code",
   "source": [
    "for message in intents['test']['message'][25:35]:\n",
    "    print(f\"Message: {message}\")\n",
    "    print(f\"Predicted Intent: {zero_shot_intent_classification(model, prompt, message)}\")\n",
    "    print()"
   ],
   "id": "ac91494295609a37",
   "outputs": [
    {
     "name": "stdout",
     "output_type": "stream",
     "text": [
      "Message: delete Gold account\n",
      "Predicted Intent: delete account\n",
      "\n",
      "Message: I am trying to unsubscribe to the newsletter\n",
      "Predicted Intent: newsletter subscription\n",
      "\n",
      "Message: what do I need to do to change to the free account?\n",
      "Predicted Intent: switch account\n",
      "\n",
      "Message: open anotherstandard account\n",
      "Predicted Intent: create account\n",
      "\n",
      "Message: I'd like to switch to the damn Premium account how to do it\n",
      "Predicted Intent: switch account\n",
      "\n",
      "Message: editing standard account\n",
      "Predicted Intent: edit account\n",
      "\n",
      "Message: wanna order several items help me\n",
      "Predicted Intent: place order\n",
      "\n",
      "Message: problems with standard account terminations\n",
      "Predicted Intent: contact customer service\n",
      "\n",
      "Message: want help ti earn some of ur product\n",
      "Predicted Intent: place order\n",
      "\n",
      "Message: I need help notifying of a trouble with online payment\n",
      "Predicted Intent: payment issue\n",
      "\n"
     ]
    }
   ],
   "execution_count": 8
  },
  {
   "metadata": {
    "id": "a3121167999eefa2"
   },
   "cell_type": "markdown",
   "source": [
    "### Predicting Intent At Scale\n",
    "\n",
    "To evaluate the performance of the `flan-t5-large` zero-shot model on the entire test dataset, we’ll:\n",
    "1. **Generate Predictions**: Use the `zero_shot_intent_classification` function to predict intents for all test messages.\n",
    "2. **Compare Predictions**: Compare the zero-shot predictions to the true labels in the test set.\n",
    "3. **Examine mis-classified text**: Look at incorrectly classified examples to see if we can understand what went wrong."
   ],
   "id": "a3121167999eefa2"
  },
  {
   "metadata": {
    "colab": {
     "base_uri": "https://localhost:8080/"
    },
    "id": "92119156ba498ead",
    "outputId": "4f882d32-951d-4afa-8093-5ea0be84579e",
    "ExecuteTime": {
     "end_time": "2024-12-04T20:37:24.059190Z",
     "start_time": "2024-12-04T20:36:39.226162Z"
    }
   },
   "cell_type": "code",
   "source": [
    "from tqdm import tqdm\n",
    "\n",
    "zero_shot_predictions = [zero_shot_intent_classification(model, prompt, message) for message in tqdm(intents['test']['message'])]\n",
    "true_labels_text = intents['test']['label']"
   ],
   "id": "92119156ba498ead",
   "outputs": [
    {
     "name": "stderr",
     "output_type": "stream",
     "text": [
      "100%|██████████| 389/389 [00:44<00:00,  8.68it/s]\n"
     ]
    }
   ],
   "execution_count": 9
  },
  {
   "cell_type": "code",
   "source": [
    "from sklearn.metrics import accuracy_score\n",
    "\n",
    "print(f'Accuracy: {accuracy_score(true_labels_text, zero_shot_predictions)}')"
   ],
   "metadata": {
    "colab": {
     "base_uri": "https://localhost:8080/"
    },
    "id": "wvLmLdWEev3h",
    "outputId": "70d0711d-0db2-4edd-f5bb-605e612eb464",
    "ExecuteTime": {
     "end_time": "2024-12-04T20:37:24.231496Z",
     "start_time": "2024-12-04T20:37:24.067344Z"
    }
   },
   "id": "wvLmLdWEev3h",
   "outputs": [
    {
     "name": "stdout",
     "output_type": "stream",
     "text": [
      "Accuracy: 0.712082262210797\n"
     ]
    }
   ],
   "execution_count": 10
  },
  {
   "metadata": {
    "id": "e268670fc0f22457"
   },
   "cell_type": "markdown",
   "source": [
    "Incredibly, our accuracy using zero-shot learning is around **70%**, even without training on the categories first! Let's take a look at accuracy by category to see if there are any that the model struggles on. The **classification report** will break down the performance of the model by category, allowing us to understand if some categories are less well supported by the model than others. It provides us with the following information:\n",
    "\n",
    "- **Precision**: This measures the proportion of correctly predicted positive observations to the total predicted positives. High precision indicates that the model makes few false positive errors.\n",
    "\n",
    "  $$\n",
    "  \\text{Precision} = \\frac{\\text{True Positives}}{\\text{True Positives} + \\text{False Positives}}\n",
    "  $$\n",
    "\n",
    "  - **Example**: If the task is to classify emails as \"spam,\" a **true positive** is an email correctly classified as spam, while a **false positive** is a legitimate email incorrectly classified as spam.\n",
    "\n",
    "- **Recall**: This measures the proportion of correctly predicted positive observations to all the actual positives. High recall indicates that the model captures most of the true positive cases.\n",
    "\n",
    "  $$\n",
    "  \\text{Recall} = \\frac{\\text{True Positives}}{\\text{True Positives} + \\text{False Negatives}}\n",
    "  $$\n",
    "\n",
    "  - **Example**: In the same email classification task, a **true positive** is an email correctly classified as spam, while a **false negative** is a spam email incorrectly classified as legitimate.\n",
    "\n",
    "- **F1 Score**: This is the harmonic mean of precision and recall, balancing the two metrics. A high F1 score indicates a good trade-off between precision and recall.\n",
    "\n",
    "  $$\n",
    "  \\text{F1 Score} = 2 \\times \\frac{\\text{Precision} \\times \\text{Recall}}{\\text{Precision} + \\text{Recall}}\n",
    "  $$\n",
    "\n",
    "- **Support**: This refers to the number of actual occurrences of each category in the dataset. It helps us understand the distribution of the categories and whether any are underrepresented, which can impact performance metrics."
   ],
   "id": "e268670fc0f22457"
  },
  {
   "cell_type": "code",
   "source": [
    "from sklearn.metrics import classification_report\n",
    "\n",
    "print(classification_report(true_labels_text, zero_shot_predictions, zero_division=0))"
   ],
   "metadata": {
    "colab": {
     "base_uri": "https://localhost:8080/"
    },
    "id": "g4ZMqtSjfGpG",
    "outputId": "e4212602-90ae-4daf-ff44-d75d3ae58d45",
    "ExecuteTime": {
     "end_time": "2024-12-04T20:37:24.250499Z",
     "start_time": "2024-12-04T20:37:24.240810Z"
    }
   },
   "id": "g4ZMqtSjfGpG",
   "outputs": [
    {
     "name": "stdout",
     "output_type": "stream",
     "text": [
      "                          precision    recall  f1-score   support\n",
      "\n",
      "            cancel order       0.75      0.64      0.69        14\n",
      "            change order       1.00      0.50      0.67        18\n",
      " change shipping address       0.28      1.00      0.43         8\n",
      "  check cancellation fee       1.00      0.73      0.84        11\n",
      "           check invoice       1.00      0.46      0.63        13\n",
      "   check payment methods       1.00      1.00      1.00        13\n",
      "     check refund policy       0.79      0.94      0.86        16\n",
      "               complaint       1.00      0.54      0.70        13\n",
      "contact customer service       0.16      0.73      0.26        11\n",
      "     contact human agent       0.74      1.00      0.85        20\n",
      "          create account       0.73      1.00      0.84        16\n",
      "          delete account       1.00      0.78      0.88        18\n",
      "        delivery options       1.00      0.18      0.30        17\n",
      "         delivery period       1.00      0.60      0.75        10\n",
      "            edit account       0.83      1.00      0.91        10\n",
      "             get invoice       0.93      0.93      0.93        14\n",
      "              get refund       0.42      1.00      0.59        10\n",
      " newsletter subscription       1.00      1.00      1.00        11\n",
      "           payment issue       0.73      1.00      0.85        11\n",
      "             place order       0.76      0.94      0.84        17\n",
      "        recover password       1.00      0.65      0.79        20\n",
      "   registration problems       1.00      0.65      0.79        17\n",
      "                  review       0.95      0.95      0.95        19\n",
      " set up shipping address       0.00      0.00      0.00        11\n",
      "          switch account       1.00      0.37      0.54        19\n",
      "             track order       0.87      0.81      0.84        16\n",
      "            track refund       1.00      0.12      0.22        16\n",
      "\n",
      "                accuracy                           0.71       389\n",
      "               macro avg       0.81      0.72      0.70       389\n",
      "            weighted avg       0.84      0.71      0.71       389\n",
      "\n"
     ]
    }
   ],
   "execution_count": 11
  },
  {
   "cell_type": "markdown",
   "source": [
    "Let's now look at some mis-classified examples to see if we can understand why they were not classified correctly."
   ],
   "metadata": {
    "id": "Rs0LdgcIg1vb"
   },
   "id": "Rs0LdgcIg1vb"
  },
  {
   "cell_type": "code",
   "source": [
    "# Display mis-classified examples\n",
    "misclassified_examples = [(message, true_label, pred) for message, true_label, pred in zip(intents['test']['message'], true_labels_text, zero_shot_predictions) if true_label != pred]\n",
    "pd.DataFrame(misclassified_examples, columns=['Message', 'True Label', 'Predicted Label'])"
   ],
   "metadata": {
    "colab": {
     "base_uri": "https://localhost:8080/",
     "height": 424
    },
    "id": "ip4L_XHXg0Ox",
    "outputId": "611a2dc2-3e5a-4f45-d040-9fe520c14321",
    "ExecuteTime": {
     "end_time": "2024-12-04T20:37:24.292960Z",
     "start_time": "2024-12-04T20:37:24.285857Z"
    }
   },
   "id": "ip4L_XHXg0Ox",
   "outputs": [
    {
     "data": {
      "text/plain": [
       "                                               Message             True Label  \\\n",
       "0    I have to see how long it takes for the packag...        delivery period   \n",
       "1    how do I file a customer claim against your or...              complaint   \n",
       "2      question about cancelling purchase 732201349959           cancel order   \n",
       "3                     I xepect a compensation of $1499           track refund   \n",
       "4          problems with standard account terminations         delete account   \n",
       "..                                                 ...                    ...   \n",
       "107                     reporting issues creating user  registration problems   \n",
       "108      problems with canceling purchase 370795561790           cancel order   \n",
       "109            can you help me to use the Pro profile?         switch account   \n",
       "110              what do I have to do to file a claim?              complaint   \n",
       "111                         help to locate bill #85632          check invoice   \n",
       "\n",
       "              Predicted Label  \n",
       "0                 track order  \n",
       "1    contact customer service  \n",
       "2    contact customer service  \n",
       "3                  get refund  \n",
       "4    contact customer service  \n",
       "..                        ...  \n",
       "107            create account  \n",
       "108  contact customer service  \n",
       "109  contact customer service  \n",
       "110  contact customer service  \n",
       "111             payment issue  \n",
       "\n",
       "[112 rows x 3 columns]"
      ],
      "text/html": [
       "<div>\n",
       "<style scoped>\n",
       "    .dataframe tbody tr th:only-of-type {\n",
       "        vertical-align: middle;\n",
       "    }\n",
       "\n",
       "    .dataframe tbody tr th {\n",
       "        vertical-align: top;\n",
       "    }\n",
       "\n",
       "    .dataframe thead th {\n",
       "        text-align: right;\n",
       "    }\n",
       "</style>\n",
       "<table border=\"1\" class=\"dataframe\">\n",
       "  <thead>\n",
       "    <tr style=\"text-align: right;\">\n",
       "      <th></th>\n",
       "      <th>Message</th>\n",
       "      <th>True Label</th>\n",
       "      <th>Predicted Label</th>\n",
       "    </tr>\n",
       "  </thead>\n",
       "  <tbody>\n",
       "    <tr>\n",
       "      <th>0</th>\n",
       "      <td>I have to see how long it takes for the packag...</td>\n",
       "      <td>delivery period</td>\n",
       "      <td>track order</td>\n",
       "    </tr>\n",
       "    <tr>\n",
       "      <th>1</th>\n",
       "      <td>how do I file a customer claim against your or...</td>\n",
       "      <td>complaint</td>\n",
       "      <td>contact customer service</td>\n",
       "    </tr>\n",
       "    <tr>\n",
       "      <th>2</th>\n",
       "      <td>question about cancelling purchase 732201349959</td>\n",
       "      <td>cancel order</td>\n",
       "      <td>contact customer service</td>\n",
       "    </tr>\n",
       "    <tr>\n",
       "      <th>3</th>\n",
       "      <td>I xepect a compensation of $1499</td>\n",
       "      <td>track refund</td>\n",
       "      <td>get refund</td>\n",
       "    </tr>\n",
       "    <tr>\n",
       "      <th>4</th>\n",
       "      <td>problems with standard account terminations</td>\n",
       "      <td>delete account</td>\n",
       "      <td>contact customer service</td>\n",
       "    </tr>\n",
       "    <tr>\n",
       "      <th>...</th>\n",
       "      <td>...</td>\n",
       "      <td>...</td>\n",
       "      <td>...</td>\n",
       "    </tr>\n",
       "    <tr>\n",
       "      <th>107</th>\n",
       "      <td>reporting issues creating user</td>\n",
       "      <td>registration problems</td>\n",
       "      <td>create account</td>\n",
       "    </tr>\n",
       "    <tr>\n",
       "      <th>108</th>\n",
       "      <td>problems with canceling purchase 370795561790</td>\n",
       "      <td>cancel order</td>\n",
       "      <td>contact customer service</td>\n",
       "    </tr>\n",
       "    <tr>\n",
       "      <th>109</th>\n",
       "      <td>can you help me to use the Pro profile?</td>\n",
       "      <td>switch account</td>\n",
       "      <td>contact customer service</td>\n",
       "    </tr>\n",
       "    <tr>\n",
       "      <th>110</th>\n",
       "      <td>what do I have to do to file a claim?</td>\n",
       "      <td>complaint</td>\n",
       "      <td>contact customer service</td>\n",
       "    </tr>\n",
       "    <tr>\n",
       "      <th>111</th>\n",
       "      <td>help to locate bill #85632</td>\n",
       "      <td>check invoice</td>\n",
       "      <td>payment issue</td>\n",
       "    </tr>\n",
       "  </tbody>\n",
       "</table>\n",
       "<p>112 rows × 3 columns</p>\n",
       "</div>"
      ]
     },
     "execution_count": 12,
     "metadata": {},
     "output_type": "execute_result"
    }
   ],
   "execution_count": 12
  },
  {
   "cell_type": "markdown",
   "source": [
    "### Flagging Abuse\n",
    "\n",
    "One of the challenges in customer service is identifying and handling abusive messages. Even in this dataset there are examples where customers have used inappropriate language in their requests."
   ],
   "metadata": {
    "id": "9FDzx-ZTiDww"
   },
   "id": "9FDzx-ZTiDww"
  },
  {
   "cell_type": "code",
   "source": [
    "# Display abusive examples\n",
    "pd.DataFrame([(message, label) for message, label in zip(intents['test']['message'], true_labels_text) if 'damn' in message.lower()], columns=['Message', 'Label'])"
   ],
   "metadata": {
    "colab": {
     "base_uri": "https://localhost:8080/",
     "height": 363
    },
    "id": "2XOfgmKPiDb4",
    "outputId": "22da12a8-84ea-442e-9c07-23302203b1f9",
    "ExecuteTime": {
     "end_time": "2024-12-04T20:37:24.362961Z",
     "start_time": "2024-12-04T20:37:24.358151Z"
    }
   },
   "id": "2XOfgmKPiDb4",
   "outputs": [
    {
     "data": {
      "text/plain": [
       "                                             Message                  Label\n",
       "0  i have got to request goddamn erimbursements o...             get refund\n",
       "1  I'd like to switch to the damn Premium account...         switch account\n",
       "2  i cannot sign up where to notify of goddamn si...  registration problems\n",
       "3  I don't know how to demand a goddamn restituti...             get refund\n",
       "4  can you help me informing of a goddamn signup ...  registration problems\n",
       "5   I need a damn Platinum account, could I open it?         create account\n",
       "6  could you help me to close the damn free account?         delete account\n",
       "7  I want to delete a goddamn item from order 732...           change order\n",
       "8  I call to check what damn shipping methods are...       delivery options\n",
       "9  where can I see what damn shipment options you...       delivery options"
      ],
      "text/html": [
       "<div>\n",
       "<style scoped>\n",
       "    .dataframe tbody tr th:only-of-type {\n",
       "        vertical-align: middle;\n",
       "    }\n",
       "\n",
       "    .dataframe tbody tr th {\n",
       "        vertical-align: top;\n",
       "    }\n",
       "\n",
       "    .dataframe thead th {\n",
       "        text-align: right;\n",
       "    }\n",
       "</style>\n",
       "<table border=\"1\" class=\"dataframe\">\n",
       "  <thead>\n",
       "    <tr style=\"text-align: right;\">\n",
       "      <th></th>\n",
       "      <th>Message</th>\n",
       "      <th>Label</th>\n",
       "    </tr>\n",
       "  </thead>\n",
       "  <tbody>\n",
       "    <tr>\n",
       "      <th>0</th>\n",
       "      <td>i have got to request goddamn erimbursements o...</td>\n",
       "      <td>get refund</td>\n",
       "    </tr>\n",
       "    <tr>\n",
       "      <th>1</th>\n",
       "      <td>I'd like to switch to the damn Premium account...</td>\n",
       "      <td>switch account</td>\n",
       "    </tr>\n",
       "    <tr>\n",
       "      <th>2</th>\n",
       "      <td>i cannot sign up where to notify of goddamn si...</td>\n",
       "      <td>registration problems</td>\n",
       "    </tr>\n",
       "    <tr>\n",
       "      <th>3</th>\n",
       "      <td>I don't know how to demand a goddamn restituti...</td>\n",
       "      <td>get refund</td>\n",
       "    </tr>\n",
       "    <tr>\n",
       "      <th>4</th>\n",
       "      <td>can you help me informing of a goddamn signup ...</td>\n",
       "      <td>registration problems</td>\n",
       "    </tr>\n",
       "    <tr>\n",
       "      <th>5</th>\n",
       "      <td>I need a damn Platinum account, could I open it?</td>\n",
       "      <td>create account</td>\n",
       "    </tr>\n",
       "    <tr>\n",
       "      <th>6</th>\n",
       "      <td>could you help me to close the damn free account?</td>\n",
       "      <td>delete account</td>\n",
       "    </tr>\n",
       "    <tr>\n",
       "      <th>7</th>\n",
       "      <td>I want to delete a goddamn item from order 732...</td>\n",
       "      <td>change order</td>\n",
       "    </tr>\n",
       "    <tr>\n",
       "      <th>8</th>\n",
       "      <td>I call to check what damn shipping methods are...</td>\n",
       "      <td>delivery options</td>\n",
       "    </tr>\n",
       "    <tr>\n",
       "      <th>9</th>\n",
       "      <td>where can I see what damn shipment options you...</td>\n",
       "      <td>delivery options</td>\n",
       "    </tr>\n",
       "  </tbody>\n",
       "</table>\n",
       "</div>"
      ]
     },
     "execution_count": 13,
     "metadata": {},
     "output_type": "execute_result"
    }
   ],
   "execution_count": 13
  },
  {
   "cell_type": "markdown",
   "source": [
    "Let's say that we want to introduce a new task to classify messages as abusive or not. We can use the same zero-shot approach to classify messages as abusive or not abusive. The prompt will be similar to the previous one, but with the new task and labels."
   ],
   "metadata": {
    "id": "_wwhK8u7iqnk"
   },
   "id": "_wwhK8u7iqnk"
  },
  {
   "cell_type": "code",
   "source": [
    "# Define the prompt for abusive language classification\n",
    "abuse_prompt = \"Classify the following as inappropriate if it contains cursing. Options:\\n-Inappropriate\\n-Appropriate\\nMessage: \"\n",
    "\n",
    "# Load the tokenizer and model\n",
    "abuse_tokenizer = T5Tokenizer.from_pretrained(\"google/flan-t5-large\")\n",
    "abuse_model = T5ForConditionalGeneration.from_pretrained(\"google/flan-t5-large\", device_map=\"cuda\" if torch.cuda.is_available() else \"cpu\")\n",
    "\n",
    "# Function for zero-shot classification of abusive language\n",
    "def zero_shot_abuse_classification(model, prompt, message):\n",
    "    # Combine the prompt and the message\n",
    "    input_text = prompt + message\n",
    "    # Tokenize the input text\n",
    "    input_ids = abuse_tokenizer(input_text, return_tensors=\"pt\").input_ids.to(device)\n",
    "    # Generate a prediction\n",
    "    output = model.generate(input_ids, max_length=50, num_beams=5, early_stopping=True)\n",
    "    # Decode the prediction into text\n",
    "    return abuse_tokenizer.decode(output[0], skip_special_tokens=True)\n",
    "\n",
    "# Test the function\n",
    "zero_shot_abuse_classification(abuse_model, abuse_prompt, \"I'm so damn frustrated with your service!\")"
   ],
   "metadata": {
    "colab": {
     "base_uri": "https://localhost:8080/",
     "height": 36
    },
    "id": "xM7g7nHjgFrz",
    "outputId": "0cf970c5-4b51-4f32-c9da-5113f801eb64",
    "ExecuteTime": {
     "end_time": "2024-12-04T20:37:26.367073Z",
     "start_time": "2024-12-04T20:37:24.403564Z"
    }
   },
   "id": "xM7g7nHjgFrz",
   "outputs": [
    {
     "data": {
      "text/plain": [
       "'Inappropriate'"
      ]
     },
     "execution_count": 14,
     "metadata": {},
     "output_type": "execute_result"
    }
   ],
   "execution_count": 14
  },
  {
   "cell_type": "markdown",
   "source": [
    "Now we can use the model to flag messages as inappropriate or not inappropriate:"
   ],
   "metadata": {
    "id": "svHsB_QjjXL-"
   },
   "id": "svHsB_QjjXL-"
  },
  {
   "cell_type": "code",
   "source": [
    "# Predict for samples that contain the word \"damn\"\n",
    "for message in intents['test']['message']:\n",
    "    if 'damn' in message.lower():\n",
    "        print(f\"Message: {message}\")\n",
    "        print(f\"Predicted Intent: {zero_shot_abuse_classification(abuse_model, abuse_prompt, message)}\")\n",
    "        print()"
   ],
   "metadata": {
    "colab": {
     "base_uri": "https://localhost:8080/"
    },
    "id": "GIcmzy6fisCH",
    "outputId": "7f768724-6c26-4b22-e440-edbf0d5bd3c7",
    "ExecuteTime": {
     "end_time": "2024-12-04T20:37:27.397614Z",
     "start_time": "2024-12-04T20:37:26.385930Z"
    }
   },
   "id": "GIcmzy6fisCH",
   "outputs": [
    {
     "name": "stdout",
     "output_type": "stream",
     "text": [
      "Message: i have got to request goddamn erimbursements of my money\n",
      "Predicted Intent: Inappropriate\n",
      "\n",
      "Message: I'd like to switch to the damn Premium account how to do it\n",
      "Predicted Intent: Inappropriate\n",
      "\n",
      "Message: i cannot sign up where to notify of goddamn signup problems\n",
      "Predicted Intent: Inappropriate\n",
      "\n",
      "Message: I don't know how to demand a goddamn restitution of my money\n",
      "Predicted Intent: Inappropriate\n",
      "\n",
      "Message: can you help me informing of a goddamn signup issue?\n",
      "Predicted Intent: Inappropriate\n",
      "\n",
      "Message: I need a damn Platinum account, could I open it?\n",
      "Predicted Intent: Inappropriate\n",
      "\n",
      "Message: could you help me to close the damn free account?\n",
      "Predicted Intent: Inappropriate\n",
      "\n",
      "Message: I want to delete a goddamn item from order 732201349959\n",
      "Predicted Intent: Inappropriate\n",
      "\n",
      "Message: I call to check what damn shipping methods are available\n",
      "Predicted Intent: Inappropriate\n",
      "\n",
      "Message: where can I see what damn shipment options you offer?\n",
      "Predicted Intent: Inappropriate\n",
      "\n"
     ]
    }
   ],
   "execution_count": 15
  },
  {
   "cell_type": "markdown",
   "source": [
    "### Translation\n",
    "\n",
    "Finally, let's explore how we can use transformers for translation tasks. We'll start by translating English messages to French using the `translation_en_to_fr` pipeline. Then we'll look at translating to Japanese using a different model."
   ],
   "metadata": {
    "id": "0NJcP1jTkLBS"
   },
   "id": "0NJcP1jTkLBS"
  },
  {
   "cell_type": "code",
   "source": [
    "from transformers import pipeline\n",
    "\n",
    "en_fr_translator = pipeline(\"translation_en_to_fr\", device='cuda')\n",
    "\n",
    "# Translate a sample message\n",
    "en_message = \"I need help with my order.\"\n",
    "\n",
    "en_fr_translator(en_message)"
   ],
   "metadata": {
    "colab": {
     "base_uri": "https://localhost:8080/",
     "height": 232,
     "referenced_widgets": [
      "654b4b45e5e64c1fb6cc4a67631c067c",
      "2b0ea1a8edf34811941a1e456dc38a57",
      "f73f17fd1abc445fb9e553b9de008e89",
      "65b7aefc3af641f680eb27f394c76874",
      "17672595fd7543f3a02c26a0d3a63501",
      "651d5718d72d4d56861db7024c83d702",
      "76e56068aca9467cb55eb87dfbfcc767",
      "20b5ecb8e4d447a3b2083f2bc7e5c2c7",
      "1de31bfa55ff4b008babf6ccf8156054",
      "ca4550b671ff468180002f7d00c8b214",
      "3862b769065f448abbc21a9fde81025a",
      "99b18c388caa4d5e92cd116e459ed6fd",
      "d7793a4eb31549f6936341d89b78881f",
      "27063c05b9ad44d8b38f57b6e506455f",
      "b57e1a776e9644be880ecea713b1eb6d",
      "ee0a7125669946ed9261cd4c4aa05391",
      "48b66b7081374814b853427dd19ebead",
      "0d73574a13e74b389410b3eddfbb1513",
      "671be63f16de42329d839e3cca9899fa",
      "dc12d80f6a8c43648e8e372298dda178",
      "c29f0a078e254926b32591c5d716b165",
      "df6789ae3658462abf033c34e607397e",
      "0c148a490a004a4891550a10163c7f29",
      "f592bf1d7f20489683ca4abc72b7ea2d",
      "84ee3e78daf64aa494a0d817449c39fa",
      "e1cc8b1ce3274979895319e84bcde103",
      "041e430c7da44419a5c58b38f04df795",
      "36d33bff0e3f4f6eb9fc0bfde6fb4cd5",
      "b441adf4447d4eebaf3cdac1513fc6b0",
      "77442124385b47c580428a6f383863dd",
      "89b5c95aff7c469ca96f915299ea8b49",
      "e17395de6bbf4251bc991f536770d986",
      "5bb9e503825e41c5863e276541d2498f",
      "c0d87deefc0b483e84b26b795d29a12d",
      "44dcaaaab37c418888b4c49fa56bd151",
      "190791fe6511409ca87991190471f11e",
      "c635c3aa42094213bbab7fa751b924fe",
      "5c10720739654d61980169000b9377bd",
      "e4aad9a2b0ed43de98e2effe6bd09f5a",
      "81158bf4d00f479ca120f9b8f5c22d79",
      "458eafef555742e3bdc587892309b372",
      "9c67a93b9fd1424e8ae164d1998c224d",
      "2ca09bb1f221412aaa0b8cbf69dbde9c",
      "f48e8fafbb3348b59b799a40cdd546fb",
      "1881f728bf994b0c9a8b7ad0174b10f1",
      "58a360fdf9104db8b588196bb6990ed9",
      "06e1a22807ec433e9f2f1ee6ec8d2f67",
      "0c3d18d5ba6449c3babf7f1044237575",
      "24f5821981404094ae518622bb9591ef",
      "21ce7fc4ac0b43a4a81a4818aef03f06",
      "07875d2a296c4d25b5bf033223394bde",
      "8981a2c0a7e74264bf1605f8be7d9889",
      "e1848a399e234f1d9ec36ea3e6d72564",
      "7c8a3fe945884e51813702ecffd53505",
      "d248703fd11d4fefac7ab6c72a1c3d89"
     ]
    },
    "id": "ki858xKtjYnv",
    "outputId": "dee26b97-aed1-407c-d3e6-0ad4b996f449",
    "ExecuteTime": {
     "end_time": "2024-12-04T20:37:28.502344Z",
     "start_time": "2024-12-04T20:37:27.445928Z"
    }
   },
   "id": "ki858xKtjYnv",
   "outputs": [
    {
     "name": "stderr",
     "output_type": "stream",
     "text": [
      "No model was supplied, defaulted to google-t5/t5-base and revision a9723ea (https://huggingface.co/google-t5/t5-base).\n",
      "Using a pipeline without specifying a model name and revision in production is not recommended.\n"
     ]
    },
    {
     "data": {
      "text/plain": [
       "[{'translation_text': \"J'ai besoin d'aide pour faire ma commande.\"}]"
      ]
     },
     "execution_count": 16,
     "metadata": {},
     "output_type": "execute_result"
    }
   ],
   "execution_count": 16
  },
  {
   "cell_type": "code",
   "source": [
    "# Translate first 50 messages in the test set\n",
    "en_messages = intents['test']['message'][:50]\n",
    "fr_messages = en_fr_translator(en_messages)\n",
    "\n",
    "# Display the translations\n",
    "for en_message, fr_message in zip(en_messages, fr_messages):\n",
    "    print(f\"EN: {en_message}\\nFR: {fr_message['translation_text']}\\n\")"
   ],
   "metadata": {
    "colab": {
     "base_uri": "https://localhost:8080/"
    },
    "id": "jZ9xeuhykMN0",
    "outputId": "085e28d9-0c26-4673-aa22-d10447fc5abb",
    "ExecuteTime": {
     "end_time": "2024-12-04T20:37:37.642104Z",
     "start_time": "2024-12-04T20:37:28.520790Z"
    }
   },
   "id": "jZ9xeuhykMN0",
   "outputs": [
    {
     "name": "stdout",
     "output_type": "stream",
     "text": [
      "EN: I do not know how I can get the bill from Anna Freeman\n",
      "FR: Je ne sais pas comment obtenir la facture d'Anna Freeman\n",
      "\n",
      "EN: help me to check how long it takes for my item to arrive\n",
      "FR: Aidez-moi à vérifier combien de temps il faut pour que mon article arrive\n",
      "\n",
      "EN: I have to see how long it takes for the package to arrive\n",
      "FR: Je dois voir combien de temps il faut pour que le colis arrive.\n",
      "\n",
      "EN: how do I file a customer claim against your organization?\n",
      "FR: Comment puis-je déposer une réclamation à l'encontre de votre organisation?\n",
      "\n",
      "EN: I need help to see in what cases can I ask for refunds\n",
      "FR: J'ai besoin d'aide pour savoir dans quels cas je peux demander des remboursements\n",
      "\n",
      "EN: i try to talk to an agent\n",
      "FR: j'essaie de parler à un agent\n",
      "\n",
      "EN: i dont know what i have to do to buy some of ur product\n",
      "FR: Je ne sais pas ce que je dois faire pour acheter une partie de votre produit.\n",
      "\n",
      "EN: help to notify of an payment error\n",
      "FR: aider à notifier une erreur de paiement\n",
      "\n",
      "EN: chat wth somebody\n",
      "FR: chat avec quelqu'un\n",
      "\n",
      "EN: i have got to request goddamn erimbursements of my money\n",
      "FR: i have to request goddamn erimbursements of my money\n",
      "\n",
      "EN: how could i talk with an assistant\n",
      "FR: Comment puis-je parler à un assistant?\n",
      "\n",
      "EN: wanna switch an item of order 113542617735902 ohw to do it\n",
      "FR: wanna switch an item of order 113542617735902 ohw to do it\n",
      "\n",
      "EN: i do not know how i could cancel order 00123842\n",
      "FR: Je ne sais pas comment je pourrais annuler la commande 00123842\n",
      "\n",
      "EN: want help tracking order 113542617735902\n",
      "FR: Vous voulez obtenir de l'aide pour suivre votre commande 113542617735902\n",
      "\n",
      "EN: question about cancelling purchase 732201349959\n",
      "FR: question sur l'annulation de l'achat 732201349959\n",
      "\n",
      "EN: help me modify order 370795561790\n",
      "FR: Aidez-moi à modifier la commande 370795561790\n",
      "\n",
      "EN: where to retrieve the pass of my account?\n",
      "FR: où récupérer la carte de crédit de mon compte ?\n",
      "\n",
      "EN: I do not have a fucking Freemium account, could I register?\n",
      "FR: Je n'ai pas de compte Freemium, puis-je m'inscrire ?\n",
      "\n",
      "EN: I xepect a compensation of $1499\n",
      "FR: I xepect une indemnité de 1499 $\n",
      "\n",
      "EN: I have got to call customer service, how to do it?\n",
      "FR: Je dois appeler le service à la clientèle, comment le faire ?\n",
      "\n",
      "EN: reimbursing 1499 dollars\n",
      "FR: remboursement de 1499 dollars\n",
      "\n",
      "EN: where do i make a consumer claim against ur business\n",
      "FR: Où puis-je déposer une réclamation de consommateur contre votre entreprise?\n",
      "\n",
      "EN: can you help me canceling my subscription to the newsletter?\n",
      "FR: pouvez-vous m'aider à annuler mon abonnement au bulletin ?\n",
      "\n",
      "EN: i do nolt know how to open a Platinum account for my wife\n",
      "FR: Je ne sais pas comment ouvrir un compte Platinum pour ma femme.\n",
      "\n",
      "EN: want help to see in what cases can I ask for reimbursements\n",
      "FR: Vous voulez obtenir de l'aide pour savoir dans quels cas je peux demander des remboursements\n",
      "\n",
      "EN: delete Gold account\n",
      "FR: Supprimer le compte Or\n",
      "\n",
      "EN: I am trying to unsubscribe to the newsletter\n",
      "FR: J'essaie de m'abstenir du bulletin d'information\n",
      "\n",
      "EN: what do I need to do to change to the free account?\n",
      "FR: Que dois-je faire pour changer de compte gratuit ?\n",
      "\n",
      "EN: open anotherstandard account\n",
      "FR: ouvrir un autre compte standard\n",
      "\n",
      "EN: I'd like to switch to the damn Premium account how to do it\n",
      "FR: J'aimerais passer au compte Premium. Comment le faire?\n",
      "\n",
      "EN: editing standard account\n",
      "FR: édition du compte standard\n",
      "\n",
      "EN: wanna order several items help me\n",
      "FR: j'aimerais commander plusieurs articles m'aider\n",
      "\n",
      "EN: problems with standard account terminations\n",
      "FR: problèmes liés à la cessation des comptes normalisés\n",
      "\n",
      "EN: want help ti earn some of ur product\n",
      "FR: Vous voulez obtenir de l'aide pour gagner une partie de votre produit\n",
      "\n",
      "EN: I need help notifying of a trouble with online payment\n",
      "FR: J'ai besoin d'aide pour signaler un problème de paiement en ligne\n",
      "\n",
      "EN: shipping to Japan\n",
      "FR: transport vers le Japon\n",
      "\n",
      "EN: problem with my forgotten password\n",
      "FR: problème avec mon mot de passe oublié\n",
      "\n",
      "EN: I have got to speak with a human agent\n",
      "FR: Je dois parler à un agent humain.\n",
      "\n",
      "EN: where do i open a Platinum account\n",
      "FR: Où ouvrir un compte Platinum?\n",
      "\n",
      "EN: I want to buy several of your product, how can I do it?\n",
      "FR: Je veux acheter plusieurs de vos produits, comment puis-je le faire?\n",
      "\n",
      "EN: change purchase 113542617735902\n",
      "FR: changement d'achat 113542617735902\n",
      "\n",
      "EN: modifying details on Gold account\n",
      "FR: Modifier les détails du compte Gold\n",
      "\n",
      "EN: i dont know how to report an issue with sign-up\n",
      "FR: Je ne sais pas comment signaler un problème d'inscription\n",
      "\n",
      "EN: check order 113542617735902 status\n",
      "FR: Ordonnance de vérification 113542617735902 état\n",
      "\n",
      "EN: assistance to check the  cancellation fee\n",
      "FR: assistance pour vérifier les frais d'annulation\n",
      "\n",
      "EN: I cannot check your money back guarantee\n",
      "FR: Je ne peux pas vérifier votre garantie de remboursement\n",
      "\n",
      "EN: I expect a reimbursement of $1499, has it been processed?\n",
      "FR: Je m'attends à un remboursement de 1499 $, a-t-il été traité?\n",
      "\n",
      "EN: wanna delete several items  from purchase 00123842 help me\n",
      "FR: veux supprimer plusieurs articles de l'achat 00123842 aide-moi\n",
      "\n",
      "EN: want help to see at what time I can cll customer support\n",
      "FR: Vous voulez obtenir de l'aide pour voir à quel moment je peux cll support à la clientèle\n",
      "\n",
      "EN: I don't know what to do to reset my user account PIN code\n",
      "FR: Je ne sais pas ce qu'il faut faire pour réinitialiser mon NIP pour mon compte utilisateur\n",
      "\n"
     ]
    }
   ],
   "execution_count": 17
  },
  {
   "cell_type": "markdown",
   "source": [
    "We can also try translation to Japanese, although be aware that this model is not as effective as the English to French model above."
   ],
   "metadata": {
    "id": "uk_pQLRzm6sn"
   },
   "id": "uk_pQLRzm6sn"
  },
  {
   "cell_type": "code",
   "source": [
    "from transformers import AutoModelForSeq2SeqLM, AutoTokenizer\n",
    "\n",
    "# Load the model and tokenizer\n",
    "model_name = \"Helsinki-NLP/opus-mt-en-jap\"\n",
    "tokenizer = AutoTokenizer.from_pretrained(model_name)\n",
    "model = AutoModelForSeq2SeqLM.from_pretrained(model_name)\n",
    "\n",
    "def translate_message(text):\n",
    "    inputs = tokenizer(text, return_tensors=\"pt\")\n",
    "    outputs = model.generate(**inputs)\n",
    "    return tokenizer.decode(outputs[0], skip_special_tokens=True)"
   ],
   "metadata": {
    "colab": {
     "base_uri": "https://localhost:8080/",
     "height": 241,
     "referenced_widgets": [
      "942586ac4c2148029c29b9a3c27eed7c",
      "9c67d75dc7154c4eab17f77540515901",
      "3ea4beee4a7b47d5ae2cc680c1cd36e5",
      "af45f884380d4ed58bd9b9fa8b7a4653",
      "c9b8a3f2404d40708ac04aeaad090b05",
      "9baf1f3ae755462aa5ecde5b66c76bda",
      "2a0021a50979459ea7cefc635f7a52e5",
      "25793bf66b1742b485c4f65484db2c98",
      "76898a677f884ba9a26a29e82a9bec99",
      "d58a880c0546444b9d1f30fb1d248176",
      "7a09cc1c23794463865f586c092bf16a",
      "a3c29846bf424ed9822006073d420c98",
      "89801e3e3abc4f31b32f6395f50b54ff",
      "43274eb75ee24e009f6e647a17395b2c",
      "daad119f093a41b5a3d8e69635fc2cd8",
      "ac98806e726a4e5fb7d1c631bc750aee",
      "d109bcf1b1d743579d5bf407f798ca46",
      "b4f9bd52f59d4f80a1f26fa5fbfe69e4",
      "fecaa74e913a4c2e8c92efc3312d937f",
      "20782067bf224e4a88af988554160fdc",
      "40e2e6fd6ccb4f70816db5e9438ab6de",
      "b31726337c8c422da31567e1e7af799a",
      "7e1d0400b4b9410ab009c83e164f76f6",
      "d29c3ac3d2ea4ffd88394a1189d60fdd",
      "2928e1054c544246b96b40fe0b472183",
      "e255e2c1d9e342b2be62b6e59533090c",
      "24b3a983f8b74f638e2bb9fe7e79f288",
      "e562c73d197842a8adff7e80c70a4fc6",
      "b7c8612f91d04d0ba5ea063eb8ad02b3",
      "38d90072db074b77bbf46cd28978505e",
      "16dfd18d3622435999b0cae43b33ef10",
      "657d356e626a4471bdb77087201caf4a",
      "1336fa49d7a34b0ca0efdaea6bd4809b",
      "d5cb3aa3fc1b444eada484047cfbc39b",
      "90efe0428e5449658fdc2cc4c9e14561",
      "85eca2ede515480eb6f8d5b2677f033d",
      "9bea435f474f4a00ad92d84e136b637d",
      "1908bbdcdfa44b6294b23dca72d162cf",
      "ff390184dbb14b869f287198e5c41065",
      "4f3b297b6fb6445491083cbedb2ef1e3",
      "b107c94cb93e447abc8b5ee088733f30",
      "0871572b9d684253b78c41bbe0f14a60",
      "3dcfb32a68594cf6aab89d92beb65e89",
      "d5e420381b934be4bf1b2466ae079e32",
      "968076fbe84d453d83c286e9d6457a00",
      "25802b74fc3f4f98adb2086e9967d168",
      "a179463cc0174d7cb175e71dab49c799",
      "0d9387cae65943c6ada5c2259d1b20b3",
      "7e5f22e4a2954ccda5396ca0ef681c29",
      "ea054e8d906740438c40ef47d921a20c",
      "b9465af667f246a28e64896683433da5",
      "8ec96373769740e697b3367bf4b7548e",
      "a688e4516b0f4a939526fa301d564b09",
      "3382c87a364c4304bc9fd9253224591e",
      "c127bb5a96d940fdb3a2d703000f99c3",
      "913030022e5e4d73bad96d9dcf11356a",
      "d67c4b0e84be49bcafeaccc259dff01d",
      "145e89609fda455e88d7a2dbdd5da8ce",
      "169eae02f0214b4ebb0a859c1c5ff6d4",
      "c4d33779311e47cc87516657ea0c88c3",
      "b61d05db47e54639bb9d6e29e6efd3cd",
      "b8e9b3f6f82349cb88a97f5389718804",
      "5e10c83332b44d43afdc3dc730443013",
      "fce3e41f83a04a4d8979ec8645ee7619",
      "ed76959857114ef6b5337b022dc46c9d",
      "c965568bd5374584a9868de775c73321",
      "76f16583531d4afca9258fdb0c55f1c0",
      "1de1f5feaa26475ba89ed02591b9b25d",
      "294cf86962a048fa8cdc8bf0fe45e4ae",
      "58c0682e8fe64fbebe8297fb9c8e8250",
      "d59b83e7be704c5f8379442731460531",
      "0432a0739fb84049b5a3255c146ec85b",
      "ba211bd22ec44475b727d521ff1b5752",
      "25c2896103ef4fa294512171e3255ae7",
      "3a017670e23f4fb7b5973a5695184f00",
      "3e1352621782415ea707275a3ea6fc2b",
      "280c3de4610b4e5599086ef7c0ad5678"
     ]
    },
    "id": "I_ty5Njplo6A",
    "outputId": "8d65b5fa-b2bc-439e-fed2-c77b858eed92",
    "ExecuteTime": {
     "end_time": "2024-12-04T20:37:39.065321Z",
     "start_time": "2024-12-04T20:37:37.715766Z"
    }
   },
   "id": "I_ty5Njplo6A",
   "outputs": [],
   "execution_count": 18
  },
  {
   "cell_type": "code",
   "source": [
    "translate_message(\"This is a test message.\")"
   ],
   "metadata": {
    "colab": {
     "base_uri": "https://localhost:8080/",
     "height": 36
    },
    "id": "5WpUBJHul7x4",
    "outputId": "c32a8076-42bb-4a67-8a98-ac979f01b639",
    "ExecuteTime": {
     "end_time": "2024-12-04T20:37:39.451480Z",
     "start_time": "2024-12-04T20:37:39.069730Z"
    }
   },
   "id": "5WpUBJHul7x4",
   "outputs": [
    {
     "data": {
      "text/plain": [
       "'これ が ため に , あいさつ で あ る .'"
      ]
     },
     "execution_count": 19,
     "metadata": {},
     "output_type": "execute_result"
    }
   ],
   "execution_count": 19
  },
  {
   "cell_type": "code",
   "source": [
    "# Translate first 50 messages in the test set\n",
    "en_messages = intents['test']['message'][:50]\n",
    "\n",
    "for en_message in en_messages:\n",
    "  print(f\"EN: {en_message}\\nJP: {translate_message(en_message)}\\n\")"
   ],
   "metadata": {
    "colab": {
     "base_uri": "https://localhost:8080/"
    },
    "id": "kWXVddADmhgd",
    "outputId": "69b80e05-5189-439b-d9b4-9a96418d0b58",
    "ExecuteTime": {
     "end_time": "2024-12-04T20:38:16.393240Z",
     "start_time": "2024-12-04T20:37:39.469896Z"
    }
   },
   "id": "kWXVddADmhgd",
   "outputs": [
    {
     "name": "stdout",
     "output_type": "stream",
     "text": [
      "EN: I do not know how I can get the bill from Anna Freeman\n",
      "JP: わたし は 知 ら な い の か , 報告 を し て み る が よ い .\n",
      "\n",
      "EN: help me to check how long it takes for my item to arrive\n",
      "JP: わたし を 久し く 攻め る ため に , わたし を 助け て くださ い .\n",
      "\n",
      "EN: I have to see how long it takes for the package to arrive\n",
      "JP: わたし は 見 て い る 間 は , どう し て い る か を 知 ろ う .\n",
      "\n",
      "EN: how do I file a customer claim against your organization?\n",
      "JP: わたし は , なん の ため に , あなた の 寛容 を むさぼり わずら っ て い る の か .\n",
      "\n",
      "EN: I need help to see in what cases can I ask for refunds\n",
      "JP: わたし は , どんな 場合 に も , 足 る こと が でき る か を 見 る こと が でき る .\n",
      "\n",
      "EN: i try to talk to an agent\n",
      "JP: 世 に あ る こと を 語 る ため に 語 る べ き で あ っ て ,\n",
      "\n",
      "EN: i dont know what i have to do to buy some of ur product\n",
      "JP: わたし たち の 中 の  誓 っ て い る こと を , あらかじめ 知 り に し て もら い た い .\n",
      "\n",
      "EN: help to notify of an payment error\n",
      "JP: 誘惑 に 陥 ら な い よう に する ため で あ る .\n",
      "\n",
      "EN: chat wth somebody\n",
      "JP: アビム は ,  くれ た 者 は , むち を も っ て 道を し て い る .\n",
      "\n",
      "EN: i have got to request goddamn erimbursements of my money\n",
      "JP: かえって 神 に 祈 る こと を 求め て , その 金 を わたし の 銀 で じゅうぶん に 与え た .\n",
      "\n",
      "EN: how could i talk with an assistant\n",
      "JP: わたし は , さと い う こと が あ る の で , どう し て 言葉 を 出 す こと が でき る か .\n",
      "\n",
      "EN: wanna switch an item of order 113542617735902 ohw to do it\n",
      "JP: い の 中 に は \" クタ ・ クミン \" と い う よう に , クミン の 上 に あ っ て , これ を な し ,  Jerusalem す こと を 好 ま な けれ ば な ら な い .\n",
      "\n",
      "EN: i do not know how i could cancel order 00123842\n",
      "JP: 知 ら な い の か , どう し て その 事 が , 明らか に する こと が でき な い か .\n",
      "\n",
      "EN: want help tracking order 113542617735902\n",
      "JP: 慎み 深 く , 寛容 で あ っ て , 慎み 深 く , 寛容 を 示 し て くださ い .\n",
      "\n",
      "EN: question about cancelling purchase 732201349959\n",
      "JP: ザフカイ と じ っ て は , どこ で も あ る か を み な けれ ば な ら な い .\n",
      "\n",
      "EN: help me modify order 370795561790\n",
      "JP: わたし を 助け て , メソポン ・ ルコナ と し て , わたし を 助け て くださ い .\n",
      "\n",
      "EN: where to retrieve the pass of my account?\n",
      "JP: わたし の 計 り ごと は , どこ に あ る の か . わたし の 言 う ところ は どこ に あ る か .\n",
      "\n",
      "EN: I do not have a fucking Freemium account, could I register?\n",
      "JP: わたし は , 自制 する こと を し て い る の で は な い か . わたし の 誇 る こと が でき ま しょ う か .\n",
      "\n",
      "EN: I xepect a compensation of $1499\n",
      "JP: わたし は  持 っ て い る くびき を 摘 み ,  持 っ て い るば を \" .\n",
      "\n",
      "EN: I have got to call customer service, how to do it?\n",
      "JP: わたし は 礼拝 を する ため に き た の で あ る が , 何 を し た ら よ い で あ ろ う か \" .\n",
      "\n",
      "EN: reimbursing 1499 dollars\n",
      "JP: キッコデ ・ ハッコク , カルクム を 生 む .\n",
      "\n",
      "EN: where do i make a consumer claim against ur business\n",
      "JP: また , ここ で は , わたし たち の 働き を くつがえ し て い る こと を , 決定 し て い る .\n",
      "\n",
      "EN: can you help me canceling my subscription to the newsletter?\n",
      "JP: あなた は わたし を 助け , おとずれ を 伝え る こと が でき る か .\n",
      "\n",
      "EN: i do nolt know how to open a Platinum account for my wife\n",
      "JP: わたし の 妻 が どう い う 場合 に つ い て も , 前 を 開 い て は な ら な い .\n",
      "\n",
      "EN: want help to see in what cases can I ask for reimbursements\n",
      "JP: 助け を 得 る ため に , わたし は どんな に し た ら よ けれ ば な ら な い か を 見 て , その 勧告 を 望 する こと が でき る だ ろ う .\n",
      "\n",
      "EN: delete Gold account\n",
      "JP: 気 を つけ て , それ を 正 し な けれ ば な ら な い .\n",
      "\n",
      "EN: I am trying to unsubscribe to the newsletter\n",
      "JP: わたし は , 福音 を ゆだね る こと が でき な い よう に と , 努め て い る の で あ る .\n",
      "\n",
      "EN: what do I need to do to change to the free account?\n",
      "JP: 自由 を 得 さ せ る ため に , 何 を し た ら よ い で しょ う か .\n",
      "\n",
      "EN: open anotherstandard account\n",
      "JP: もう 一 つ の 開 い た こと が あ る . しかし , ほか の どの 点 を 開 く こと も でき る .\n",
      "\n",
      "EN: I'd like to switch to the damn Premium account how to do it\n",
      "JP: わたし は , これ が ため す べ き こと , また , どう し て この よう な 理由 を し て い る か の よう に ,\n",
      "\n",
      "EN: editing standard account\n",
      "JP: 次 に 旗 を 立て た 者 ,\n",
      "\n",
      "EN: wanna order several items help me\n",
      "JP: 貧し い 命 じ て , わたし を 助け させ よ .\n",
      "\n",
      "EN: problems with standard account terminations\n",
      "JP: 目負 わ れ た 者 たち と 共 に , あらかじめ あかし を し て い た 者 で あ る .\n",
      "\n",
      "EN: want help ti earn some of ur product\n",
      "JP: クエクリスポ から は , わたし たち の 中 の あ る 者 たち が 監督 者 と な っ て い る .\n",
      "\n",
      "EN: I need help notifying of a trouble with online payment\n",
      "JP: わたし は , 忍耐 を 弁明 の ため に は ,  助け を 受け る こと が な い .\n",
      "\n",
      "EN: shipping to Japan\n",
      "JP: アグライ に は ベバル に ,\n",
      "\n",
      "EN: problem with my forgotten password\n",
      "JP: わが 心 の 影 を 忘れ て 言 い ま し た .\n",
      "\n",
      "EN: I have got to speak with a human agent\n",
      "JP: 人間 に つ い て は , 前 の こと を 語 る べ き で あ る .\n",
      "\n",
      "EN: where do i open a Platinum account\n",
      "JP: アスント から は , 告訴 の ころ が あ る .\n",
      "\n",
      "EN: I want to buy several of your product, how can I do it?\n",
      "JP: わたし は あなた の 身 から 価 を 買 お う と し て い る の で , どう し て これ を し よう か .\n",
      "\n",
      "EN: change purchase 113542617735902\n",
      "JP: 買収テ び と シベノブ テイ , シベノン , シャフル ,\n",
      "\n",
      "EN: modifying details on Gold account\n",
      "JP: それ は 決定 し て 悪 い こと で あ っ て , 慎み 深 く 行動 し な けれ ば な ら な い .\n",
      "\n",
      "EN: i dont know how to report an issue with sign-up\n",
      "JP: かつ , この よう な しるし を わきまえ て い る の が , どう し て わか る だ ろ う か ,\n",
      "\n",
      "EN: check order 113542617735902 status\n",
      "JP: シャフカテ・シクシャフル・シャシャン,シャハル,\n",
      "\n",
      "EN: assistance to check the  cancellation fee\n",
      "JP: と い う の は , わたし たち が かた く 所 に 出 る こと が でき る と の よう で あ っ て も ,\n",
      "\n",
      "EN: I cannot check your money back guarantee\n",
      "JP: わたし は , あなた の 金 を 散ら し て は いけ な い .\n",
      "\n",
      "EN: I expect a reimbursement of $1499, has it been processed?\n",
      "JP: わたし は , これ が あわて させ る と い う 望 ん だ の で あ ろ う か . その 勧告 を し はじめ た の で , 今 なお 忍耐 し て い る で あ ろ う か .\n",
      "\n",
      "EN: wanna delete several items  from purchase 00123842 help me\n",
      "JP: (見 よ , 人々 が わたし を しえ たげ る とき から , わたし を 助け て くださ い .)\n",
      "\n",
      "EN: want help to see at what time I can cll customer support\n",
      "JP: わたし は , どう し て 訓練 する こと が でき る か を 見 る こと が でき る か .\n",
      "\n",
      "EN: I don't know what to do to reset my user account PIN code\n",
      "JP: わたし は , 自分 の 推薦 を する ため に , どんな 事 を し た ら よ い か , わか り ま せ ん .\n",
      "\n"
     ]
    }
   ],
   "execution_count": 20
  }
 ],
 "metadata": {
  "kernelspec": {
   "display_name": "Python 3 (ipykernel)",
   "name": "python3",
   "language": "python"
  },
  "language_info": {
   "codemirror_mode": {
    "name": "ipython",
    "version": 2
   },
   "file_extension": ".py",
   "mimetype": "text/x-python",
   "name": "python",
   "nbconvert_exporter": "python",
   "pygments_lexer": "ipython2",
   "version": "2.7.6"
  },
  "colab": {
   "provenance": [],
   "machine_shape": "hm",
   "gpuType": "L4"
  },
  "accelerator": "GPU"
 },
 "nbformat": 4,
 "nbformat_minor": 5
}
